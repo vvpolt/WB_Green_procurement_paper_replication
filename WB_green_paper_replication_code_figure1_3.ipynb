{
 "cells": [
  {
   "cell_type": "code",
   "execution_count": 1,
   "id": "fe8a65d0-a767-4220-abd3-374513c330e1",
   "metadata": {
    "tags": []
   },
   "outputs": [],
   "source": [
    "import json\n",
    "import pandas as pd\n",
    "import os\n",
    "import numpy as np\n",
    "import matplotlib\n",
    "import matplotlib.pyplot as plt\n",
    "import seaborn as sns\n",
    "pd.set_option('max_colwidth', None)"
   ]
  },
  {
   "cell_type": "markdown",
   "id": "fc578c83-67a0-4130-8a6a-a6bfa454964a",
   "metadata": {},
   "source": [
    "### Reading data & merging txt json objects to BG processed data"
   ]
  },
  {
   "cell_type": "code",
   "execution_count": 2,
   "id": "9112486b-b51d-4433-866b-2cfd501617c9",
   "metadata": {
    "tags": []
   },
   "outputs": [
    {
     "data": {
      "text/plain": [
       "31306"
      ]
     },
     "execution_count": 2,
     "metadata": {},
     "output_type": "execute_result"
    }
   ],
   "source": [
    "data_loc = \"/Users/file/directory\"\n",
    "data_json_eop = []\n",
    "i=0\n",
    "with open(data_loc +\"/BG_EOP_data_20220222.json\", encoding= \"UTF-8\") as f:\n",
    "    for line in f:\n",
    "        i+=1\n",
    "        d=json.loads(line)\n",
    "        data_json_eop.append(d)\n",
    "len(data_json_eop)"
   ]
  },
  {
   "cell_type": "code",
   "execution_count": 3,
   "id": "32fe851d-4213-4487-bf1f-2a647fbbebf2",
   "metadata": {
    "tags": []
   },
   "outputs": [
    {
     "data": {
      "text/plain": [
       "144062"
      ]
     },
     "execution_count": 3,
     "metadata": {},
     "output_type": "execute_result"
    }
   ],
   "source": [
    "data_json_aop = []\n",
    "i=0\n",
    "with open(data_loc +\"/BG_AOP_data_20220228.json\", encoding= \"UTF-8\") as f:\n",
    "    for line in f:\n",
    "        i+=1\n",
    "        d=json.loads(line)\n",
    "        data_json_aop.append(d)\n",
    "len(data_json_aop)"
   ]
  },
  {
   "cell_type": "code",
   "execution_count": 4,
   "id": "b9c16f56-55c9-4b70-a88e-010bbf8cc578",
   "metadata": {
    "tags": []
   },
   "outputs": [
    {
     "data": {
      "text/plain": [
       "175368"
      ]
     },
     "execution_count": 4,
     "metadata": {},
     "output_type": "execute_result"
    }
   ],
   "source": [
    "data_json = data_json_eop + data_json_aop\n",
    "len(data_json)"
   ]
  },
  {
   "cell_type": "code",
   "execution_count": 5,
   "id": "39923a80-931d-4c3e-bad2-9806e20366bb",
   "metadata": {
    "tags": []
   },
   "outputs": [],
   "source": [
    "#collecting text info\n",
    "text_info = []\n",
    "for i,ten in enumerate(data_json):\n",
    "    \n",
    "    text_dict = {}\n",
    "    text_dict[\"persistent_id\"] = ten[\"persistentId\"]\n",
    "    \n",
    "    try:\n",
    "        text_dict[\"title\"] = ten[\"title\"] \n",
    "    except KeyError:\n",
    "        text_dict[\"title\"] = np.nan\n",
    "        \n",
    "    try:\n",
    "        text_dict[\"description\"] = ten[\"description\"]\n",
    "    except KeyError:\n",
    "        text_dict[\"description\"] = np.nan\n",
    "        \n",
    "    try:\n",
    "        text_dict[\"personalRequirements\"] = ten[\"personalRequirements\"]\n",
    "    except KeyError:\n",
    "        text_dict[\"personalRequirements\"] = np.nan\n",
    "        \n",
    "    try:\n",
    "        text_dict[\"economicRequirements\"] = ten[\"economicRequirements\"]\n",
    "    except KeyError:\n",
    "        text_dict[\"economicRequirements\"] = np.nan\n",
    "\n",
    "    try:\n",
    "        text_dict[\"technicalRequirements\"] = ten[\"technicalRequirements\"]\n",
    "    except KeyError:\n",
    "        text_dict[\"technicalRequirements\"] = np.nan\n",
    "        \n",
    "    try:\n",
    "        name = ''\n",
    "        for b, crit in enumerate(ten[\"awardCriteria\"]):\n",
    "            try:\n",
    "                if b >= 1:\n",
    "                    name+= \", \" + \"{}) \".format(b+1) + str(crit[\"name\"])\n",
    "                else:\n",
    "                    name = \"{}) \".format(b+1) + crit[\"name\"]\n",
    "            except KeyError:\n",
    "                pass\n",
    "        \n",
    "        text_dict[\"awardCriteria\"] = name\n",
    "\n",
    "    except KeyError:\n",
    "        text_dict[\"awardCriteria\"] = np.nan\n",
    "    \n",
    "    lots = []\n",
    "    if \"lots\" in ten.keys():\n",
    "        \n",
    "        for v,lot in enumerate(ten[\"lots\"]):     \n",
    "            lot_text_dict = {}\n",
    "            \n",
    "            try:\n",
    "                lot_text_dict[\"lot_id\"] = lot[\"lotId\"]\n",
    "            except KeyError:\n",
    "                lot_text_dict[\"lot_id\"] = np.nan\n",
    "                \n",
    "            try:\n",
    "                lot_text_dict[\"lot_title\"] = lot[\"title\"]\n",
    "            except KeyError:\n",
    "                lot_text_dict[\"lot_title\"] = np.nan\n",
    "                \n",
    "            try:\n",
    "                lot_text_dict[\"lot_description\"] = lot[\"description\"]\n",
    "            except KeyError:\n",
    "                lot_text_dict[\"lot_description\"] = np.nan\n",
    "                \n",
    "            lots.append(lot_text_dict)\n",
    "        \n",
    "        \n",
    "        \n",
    "    text_dict[\"lots\"] = lots\n",
    "    \n",
    "    text_info.append(text_dict)"
   ]
  },
  {
   "cell_type": "code",
   "execution_count": 6,
   "id": "41658926-c3a9-433d-baa3-91366f10def1",
   "metadata": {
    "tags": []
   },
   "outputs": [],
   "source": [
    "text_df = pd.DataFrame(text_info)"
   ]
  },
  {
   "cell_type": "code",
   "execution_count": 7,
   "id": "08a8195b-0ef0-435b-806c-148407198b3f",
   "metadata": {
    "tags": []
   },
   "outputs": [],
   "source": [
    "text_df_contractlvl = text_df.explode(\"lots\").reset_index(drop = True)"
   ]
  },
  {
   "cell_type": "code",
   "execution_count": 8,
   "id": "c7a9a81a-0348-4d89-b492-b54f3c2f9e26",
   "metadata": {
    "tags": []
   },
   "outputs": [],
   "source": [
    "text_df_contractlvl = pd.concat(\n",
    "    [text_df_contractlvl.drop(['lots'], axis=1), \n",
    "     text_df_contractlvl['lots'].apply(pd.Series)], axis=1)\n",
    "\n",
    "text_df_contractlvl.drop(0, axis = 1, inplace = True)"
   ]
  },
  {
   "cell_type": "code",
   "execution_count": 9,
   "id": "6ff12290-d3b8-4418-8601-51aee97a99df",
   "metadata": {
    "tags": []
   },
   "outputs": [],
   "source": [
    "data_loc = \"/Users/file/directory/bg\"\n",
    "data_processed = pd.read_csv(data_loc + \"/bg_cri_20220317_processed.csv\", low_memory = False)"
   ]
  },
  {
   "cell_type": "code",
   "execution_count": 10,
   "id": "3b5763bd-2bd1-4671-86b7-94bf37ed1124",
   "metadata": {
    "tags": []
   },
   "outputs": [],
   "source": [
    "data_proc_wtext = data_processed.merge(\n",
    "    text_df_contractlvl.loc[:, ~text_df_contractlvl.columns.isin([\"lot_title\", \"title\"])], \n",
    "    on = [\"persistent_id\", \"lot_id\"], \n",
    "    how = \"left\").drop_duplicates(subset = \"bid_id\")"
   ]
  },
  {
   "cell_type": "markdown",
   "id": "fb650230-b1c9-472b-bd63-5b329cdfb044",
   "metadata": {
    "tags": []
   },
   "source": [
    "### Text fields availablility"
   ]
  },
  {
   "cell_type": "code",
   "execution_count": 11,
   "id": "b1adc0e8-f198-4b2c-9260-b903c8c7ae21",
   "metadata": {
    "tags": []
   },
   "outputs": [],
   "source": [
    "mis_title_shr = (len(data_proc_wtext[(data_proc_wtext[\"tender_title\"].isna())]) /\n",
    "                     len(data_proc_wtext))\n",
    "\n",
    "mis_desc_shr = (len(data_proc_wtext[(data_proc_wtext[\"description\"].isna())]) /\n",
    "                     len(data_proc_wtext))\n",
    "\n",
    "mis_persreq_shr = (len(data_proc_wtext[(data_proc_wtext[\"personalRequirements\"].isna())]) /\n",
    "                     len(data_proc_wtext))\n",
    "\n",
    "mis_ecoreq_shr = (len(data_proc_wtext[(data_proc_wtext[\"economicRequirements\"].isna())]) /\n",
    "                     len(data_proc_wtext))\n",
    "\n",
    "mis_techreq_shr = (len(data_proc_wtext[(data_proc_wtext[\"technicalRequirements\"].isna())]) /\n",
    "                     len(data_proc_wtext))\n",
    "\n",
    "mis_awcrit_shr = (len(data_proc_wtext[(data_proc_wtext[\"awardCriteria\"].isna())]) /\n",
    "                     len(data_proc_wtext))\n",
    "\n",
    "mis_lottitle_shr = (len(data_proc_wtext[(data_proc_wtext[\"lot_title\"].isna())]) /\n",
    "                     len(data_proc_wtext))\n",
    "\n",
    "mis_lotdesc_shr = (len(data_proc_wtext[(data_proc_wtext[\"lot_description\"].isna())]) /\n",
    "                     len(data_proc_wtext))"
   ]
  },
  {
   "cell_type": "code",
   "execution_count": 12,
   "id": "1e4b1cf5-43b5-4395-8b98-ebf4d6865901",
   "metadata": {
    "tags": []
   },
   "outputs": [],
   "source": [
    "mis_title_shr_all = (len(data_proc_wtext[(data_proc_wtext[\"tender_title\"].isna()) | \n",
    "                                     (data_proc_wtext[\"tender_title\"] == \"\") |\n",
    "                                     (data_proc_wtext[\"tender_title\"] == \" \") | \n",
    "                                     (data_proc_wtext[\"tender_title\"]== \"НЕ\") |\n",
    "                                     (data_proc_wtext[\"tender_title\"] == \"не\") |\n",
    "                                     (data_proc_wtext[\"tender_title\"].isin([\"няма изисквания\", \n",
    "                                                                            \"Няма изисквания.\",\n",
    "                                                                            \"Няма изискване.\",\n",
    "                                                                            \"няма\", \n",
    "                                                                            \"Не се изискват.\",\n",
    "                                                                            \"Възложителят не поставя изисквания.\",\n",
    "                                                                            \"не се изисква\",\n",
    "                                                                            \"Не се изисква.\",\n",
    "                                                                            \"не се изискват\"])) |\n",
    "                                     (data_proc_wtext[\"tender_title\"].isin(\n",
    "                                         [\"Изискуеми документи и информация: няма Минимални изисквания: няма\",\n",
    "                                        \"Изискуеми документи и информация: не Минимални изисквания: не\",\n",
    "                                        \"Изискуеми документи и информация: не се изискват Минимални изисквания: не се изискват\",\n",
    "                                        \"Изискуеми документи и информация: Не се изискват Минимални изисквания: Не се изискват\",\n",
    "                                        \"Възложителят не поставя условия за икономическо и финансово състояние\",\n",
    "                                        \"Възложителят не поставя изисквания за икономическо и финансово състояние на участниците.\",\n",
    "                                        \"Изискуеми документи и информация: Няма Минимални изисквания: Няма\",\n",
    "                                        \"Изискуеми документи и информация: няма Минимални изисквания: няма\",\n",
    "                                        \"няма поставени изисквания\",\n",
    "                                        \"Договор\",\n",
    "                                        \":\",\n",
    "                                        \"договор\"])) |\n",
    "                                     (len(data_proc_wtext[\"tender_title\"]) < 5)]) /\n",
    "                 len(data_proc_wtext))\n",
    "\n",
    "mis_desc_shr_all = (len(data_proc_wtext[(data_proc_wtext[\"description\"].isna()) | \n",
    "                                     (data_proc_wtext[\"description\"] == \"\") |\n",
    "                                     (data_proc_wtext[\"description\"] == \" \") | \n",
    "                                     (data_proc_wtext[\"description\"]== \"НЕ\") |\n",
    "                                     (data_proc_wtext[\"description\"] == \"не\") |\n",
    "                                     (data_proc_wtext[\"description\"].isin([\"няма изисквания\", \n",
    "                                                                            \"Няма изисквания.\",\n",
    "                                                                            \"Няма изискване.\",\n",
    "                                                                            \"няма\", \n",
    "                                                                            \"Не се изискват.\",\n",
    "                                                                            \"Възложителят не поставя изисквания.\",\n",
    "                                                                            \"не се изисква\",\n",
    "                                                                            \"Не се изисква.\",\n",
    "                                                                            \"не се изискват\"])) | \n",
    "                                     (data_proc_wtext[\"description\"].isin(\n",
    "                                         [\"Изискуеми документи и информация: няма Минимални изисквания: няма\",\n",
    "                                        \"Изискуеми документи и информация: не Минимални изисквания: не\",\n",
    "                                        \"Изискуеми документи и информация: не се изискват Минимални изисквания: не се изискват\",\n",
    "                                        \"Изискуеми документи и информация: Не се изискват Минимални изисквания: Не се изискват\",\n",
    "                                        \"Възложителят не поставя условия за икономическо и финансово състояние\",\n",
    "                                        \"Възложителят не поставя изисквания за икономическо и финансово състояние на участниците.\",\n",
    "                                        \"Изискуеми документи и информация: Няма Минимални изисквания: Няма\",\n",
    "                                        \"Изискуеми документи и информация: няма Минимални изисквания: няма\",\n",
    "                                        \"няма поставени изисквания\",\n",
    "                                        \"Договор\",\n",
    "                                        \":\",\n",
    "                                        \"договор\"])) |\n",
    "                                     (len(data_proc_wtext[\"description\"]) < 5)]) /\n",
    "                 len(data_proc_wtext))\n",
    "\n",
    "mis_persreq_shr_all = (len(data_proc_wtext[(data_proc_wtext[\"personalRequirements\"].isna()) | \n",
    "                                     (data_proc_wtext[\"personalRequirements\"] == \"\") |\n",
    "                                     (data_proc_wtext[\"personalRequirements\"] == \" \") | \n",
    "                                     (data_proc_wtext[\"personalRequirements\"]== \"НЕ\") |\n",
    "                                     (data_proc_wtext[\"personalRequirements\"] == \"не\") |\n",
    "                                     (data_proc_wtext[\"personalRequirements\"].isin([\"няма изисквания\", \n",
    "                                                                            \"Няма изисквания.\",\n",
    "                                                                            \"Няма изискване.\",\n",
    "                                                                            \"няма\", \n",
    "                                                                            \"Не се изискват.\",\n",
    "                                                                            \"Възложителят не поставя изисквания.\",\n",
    "                                                                            \"не се изисква\",\n",
    "                                                                            \"Не се изисква.\",\n",
    "                                                                            \"не се изискват\",\n",
    "                                                                            \"Не се изисква\"])) | \n",
    "                                     (data_proc_wtext[\"personalRequirements\"].isin(\n",
    "                                         [\"Изискуеми документи и информация: няма Минимални изисквания: няма\",\n",
    "                                        \"Изискуеми документи и информация: не Минимални изисквания: не\",\n",
    "                                        \"Изискуеми документи и информация: не се изискват Минимални изисквания: не се изискват\",\n",
    "                                        \"Изискуеми документи и информация: Не се изискват Минимални изисквания: Не се изискват\",\n",
    "                                        \"Възложителят не поставя условия за икономическо и финансово състояние\",\n",
    "                                        \"Възложителят не поставя изисквания за икономическо и финансово състояние на участниците.\",\n",
    "                                        \"Изискуеми документи и информация: Няма Минимални изисквания: Няма\",\n",
    "                                        \"Изискуеми документи и информация: няма Минимални изисквания: няма\",\n",
    "                                        \"няма поставени изисквания\",\n",
    "                                        \"Договор\",\n",
    "                                        \":\",\n",
    "                                        \"договор\"])) |\n",
    "                                     (len(data_proc_wtext[\"personalRequirements\"]) < 5)]) /\n",
    "                 len(data_proc_wtext))\n",
    "\n",
    "mis_ecoreq_shr_all = (len(data_proc_wtext[(data_proc_wtext[\"economicRequirements\"].isna()) | \n",
    "                                     (data_proc_wtext[\"economicRequirements\"] == \"\") |\n",
    "                                     (data_proc_wtext[\"economicRequirements\"] == \" \") | \n",
    "                                     (data_proc_wtext[\"economicRequirements\"]== \"НЕ\") |\n",
    "                                     (data_proc_wtext[\"economicRequirements\"] == \"не\") |\n",
    "                                     (data_proc_wtext[\"economicRequirements\"].isin([\"няма изисквания\", \n",
    "                                                                            \"Няма изисквания.\",\n",
    "                                                                            \"Няма изискване.\",\n",
    "                                                                            \"няма\", \n",
    "                                                                            \"Не се изискват.\",\n",
    "                                                                            \"Възложителят не поставя изисквания.\",\n",
    "                                                                            \"не се изисква\",\n",
    "                                                                            \"Не се изисква.\",\n",
    "                                                                            \"не се изискват\",\n",
    "                                                                            \"Не се изисква\"])) | \n",
    "                                     (data_proc_wtext[\"economicRequirements\"].isin(\n",
    "                                         [\"Изискуеми документи и информация: няма Минимални изисквания: няма\",\n",
    "                                        \"Изискуеми документи и информация: не Минимални изисквания: не\",\n",
    "                                        \"Изискуеми документи и информация: не се изискват Минимални изисквания: не се изискват\",\n",
    "                                        \"Изискуеми документи и информация: Не се изискват Минимални изисквания: Не се изискват\",\n",
    "                                        \"Възложителят не поставя условия за икономическо и финансово състояние\",\n",
    "                                        \"Възложителят не поставя изисквания за икономическо и финансово състояние на участниците.\",\n",
    "                                        \"Изискуеми документи и информация: Няма Минимални изисквания: Няма\",\n",
    "                                        \"Изискуеми документи и информация: няма Минимални изисквания: няма\",\n",
    "                                        \"няма поставени изисквания\",\n",
    "                                        \"Договор\",\n",
    "                                        \":\",\n",
    "                                        \"договор\"])) |\n",
    "                                     (len(data_proc_wtext[\"economicRequirements\"]) < 5)]) /\n",
    "                 len(data_proc_wtext))\n",
    "\n",
    "mis_techreq_shr_all = (len(data_proc_wtext[(data_proc_wtext[\"technicalRequirements\"].isna()) | \n",
    "                                     (data_proc_wtext[\"technicalRequirements\"] == \"\") |\n",
    "                                     (data_proc_wtext[\"technicalRequirements\"] == \" \") | \n",
    "                                     (data_proc_wtext[\"technicalRequirements\"]== \"НЕ\") |\n",
    "                                     (data_proc_wtext[\"technicalRequirements\"] == \"не\") |\n",
    "                                     (data_proc_wtext[\"technicalRequirements\"].isin([\"няма изисквания\", \n",
    "                                                                            \"Няма изисквания.\",\n",
    "                                                                            \"Няма изискване.\",\n",
    "                                                                            \"няма\", \n",
    "                                                                            \"Не се изискват.\",\n",
    "                                                                            \"Възложителят не поставя изисквания.\",\n",
    "                                                                            \"не се изисква\",\n",
    "                                                                            \"Не се изисква.\",\n",
    "                                                                            \"не се изискват\",\n",
    "                                                                            \"Не се изисква\"])) | \n",
    "                                     (data_proc_wtext[\"technicalRequirements\"].isin(\n",
    "                                         [\"Изискуеми документи и информация: няма Минимални изисквания: няма\",\n",
    "                                        \"Изискуеми документи и информация: не Минимални изисквания: не\",\n",
    "                                        \"Изискуеми документи и информация: не се изискват Минимални изисквания: не се изискват\",\n",
    "                                        \"Изискуеми документи и информация: Не се изискват Минимални изисквания: Не се изискват\",\n",
    "                                        \"Възложителят не поставя условия за икономическо и финансово състояние\",\n",
    "                                        \"Възложителят не поставя изисквания за икономическо и финансово състояние на участниците.\",\n",
    "                                        \"Изискуеми документи и информация: Няма Минимални изисквания: Няма\",\n",
    "                                        \"Изискуеми документи и информация: няма Минимални изисквания: няма\",\n",
    "                                        \"няма поставени изисквания\",\n",
    "                                        \"Договор\",\n",
    "                                        \":\",\n",
    "                                        \"договор\"])) |\n",
    "                                     (len(data_proc_wtext[\"technicalRequirements\"]) < 5)]) /\n",
    "                 len(data_proc_wtext))\n",
    "\n",
    "mis_awcrit_shr_all = (len(data_proc_wtext[(data_proc_wtext[\"awardCriteria\"].isna()) | \n",
    "                                     (data_proc_wtext[\"awardCriteria\"] == \"\") |\n",
    "                                     (data_proc_wtext[\"awardCriteria\"] == \" \") | \n",
    "                                     (data_proc_wtext[\"awardCriteria\"]== \"НЕ\") |\n",
    "                                     (data_proc_wtext[\"awardCriteria\"] == \"не\") |\n",
    "                                     (data_proc_wtext[\"awardCriteria\"].isin([\"няма изисквания\", \n",
    "                                                                            \"Няма изисквания.\",\n",
    "                                                                            \"Няма изискване.\",\n",
    "                                                                            \"няма\", \n",
    "                                                                            \"Не се изискват.\",\n",
    "                                                                            \"Възложителят не поставя изисквания.\",\n",
    "                                                                            \"не се изисква\",\n",
    "                                                                            \"Не се изисква.\",\n",
    "                                                                            \"не се изискват\",\n",
    "                                                                            \"Не се изисква\"])) | \n",
    "                                     (data_proc_wtext[\"awardCriteria\"].isin(\n",
    "                                         [\"Изискуеми документи и информация: няма Минимални изисквания: няма\",\n",
    "                                        \"Изискуеми документи и информация: не Минимални изисквания: не\",\n",
    "                                        \"Изискуеми документи и информация: не се изискват Минимални изисквания: не се изискват\",\n",
    "                                        \"Изискуеми документи и информация: Не се изискват Минимални изисквания: Не се изискват\",\n",
    "                                        \"Възложителят не поставя условия за икономическо и финансово състояние\",\n",
    "                                        \"Възложителят не поставя изисквания за икономическо и финансово състояние на участниците.\",\n",
    "                                        \"Изискуеми документи и информация: Няма Минимални изисквания: Няма\",\n",
    "                                        \"Изискуеми документи и информация: няма Минимални изисквания: няма\",\n",
    "                                        \"няма поставени изисквания\",\n",
    "                                        \"Договор\",\n",
    "                                        \":\",\n",
    "                                        \"договор\"])) |\n",
    "                                     (len(data_proc_wtext[\"awardCriteria\"]) < 5)]) /\n",
    "                 len(data_proc_wtext))\n",
    "\n",
    "mis_lottitle_shr_all = (len(data_proc_wtext[(data_proc_wtext[\"lot_title\"].isna()) | \n",
    "                                     (data_proc_wtext[\"lot_title\"] == \"\") |\n",
    "                                     (data_proc_wtext[\"lot_title\"] == \" \") | \n",
    "                                     (data_proc_wtext[\"lot_title\"]== \"НЕ\") |\n",
    "                                     (data_proc_wtext[\"lot_title\"] == \"не\") |\n",
    "                                     (data_proc_wtext[\"lot_title\"].isin([\"няма изисквания\", \n",
    "                                                                            \"Няма изисквания.\",\n",
    "                                                                            \"Няма изискване.\",\n",
    "                                                                            \"няма\", \n",
    "                                                                            \"Не се изискват.\",\n",
    "                                                                            \"Възложителят не поставя изисквания.\",\n",
    "                                                                            \"не се изисква\",\n",
    "                                                                            \"Не се изисква.\",\n",
    "                                                                            \"не се изискват\",\n",
    "                                                                            \"Не се изисква\"])) | \n",
    "                                     (data_proc_wtext[\"lot_title\"].isin(\n",
    "                                         [\"Изискуеми документи и информация: няма Минимални изисквания: няма\",\n",
    "                                        \"Изискуеми документи и информация: не Минимални изисквания: не\",\n",
    "                                        \"Изискуеми документи и информация: не се изискват Минимални изисквания: не се изискват\",\n",
    "                                        \"Изискуеми документи и информация: Не се изискват Минимални изисквания: Не се изискват\",\n",
    "                                        \"Възложителят не поставя условия за икономическо и финансово състояние\",\n",
    "                                        \"Възложителят не поставя изисквания за икономическо и финансово състояние на участниците.\",\n",
    "                                        \"Изискуеми документи и информация: Няма Минимални изисквания: Няма\",\n",
    "                                        \"Изискуеми документи и информация: няма Минимални изисквания: няма\",\n",
    "                                        \"няма поставени изисквания\",\n",
    "                                        \"Договор\",\n",
    "                                        \":\",\n",
    "                                        \"договор\"])) |\n",
    "                                     (len(data_proc_wtext[\"lot_title\"]) < 5)]) /\n",
    "                 len(data_proc_wtext))\n",
    "\n",
    "mis_lotdesc_shr_all = (len(data_proc_wtext[(data_proc_wtext[\"lot_description\"].isna()) | \n",
    "                                     (data_proc_wtext[\"lot_description\"] == \"\") |\n",
    "                                     (data_proc_wtext[\"lot_description\"] == \" \") | \n",
    "                                     (data_proc_wtext[\"lot_description\"]== \"НЕ\") |\n",
    "                                     (data_proc_wtext[\"lot_description\"] == \"не\") |\n",
    "                                     (data_proc_wtext[\"lot_description\"].isin([\"няма изисквания\", \n",
    "                                                                            \"Няма изисквания.\",\n",
    "                                                                            \"Няма изискване.\",\n",
    "                                                                            \"няма\", \n",
    "                                                                            \"Не се изискват.\",\n",
    "                                                                            \"Възложителят не поставя изисквания.\",\n",
    "                                                                            \"не се изисква\",\n",
    "                                                                            \"Не се изисква.\",\n",
    "                                                                            \"не се изискват\",\n",
    "                                                                            \"Не се изисква\"])) | \n",
    "                                     (data_proc_wtext[\"lot_description\"].isin(\n",
    "                                         [\"Изискуеми документи и информация: няма Минимални изисквания: няма\",\n",
    "                                        \"Изискуеми документи и информация: не Минимални изисквания: не\",\n",
    "                                        \"Изискуеми документи и информация: не се изискват Минимални изисквания: не се изискват\",\n",
    "                                        \"Изискуеми документи и информация: Не се изискват Минимални изисквания: Не се изискват\",\n",
    "                                        \"Възложителят не поставя условия за икономическо и финансово състояние\",\n",
    "                                        \"Възложителят не поставя изисквания за икономическо и финансово състояние на участниците.\",\n",
    "                                        \"Изискуеми документи и информация: Няма Минимални изисквания: Няма\",\n",
    "                                        \"Изискуеми документи и информация: няма Минимални изисквания: няма\",\n",
    "                                        \"няма поставени изисквания\",\n",
    "                                        \"Договор\",\n",
    "                                        \":\",\n",
    "                                        \"договор\"])) |\n",
    "                                     (len(data_proc_wtext[\"lot_description\"]) < 5)]) /\n",
    "                 len(data_proc_wtext))"
   ]
  },
  {
   "cell_type": "code",
   "execution_count": 13,
   "id": "fb9de88c-c79c-4d64-8676-3a236d0a6024",
   "metadata": {
    "tags": []
   },
   "outputs": [],
   "source": [
    "missing_txt_fields_n = pd.DataFrame({\"missing_share\": [mis_title_shr, mis_desc_shr, mis_persreq_shr, \n",
    "                     mis_ecoreq_shr, mis_techreq_shr, mis_awcrit_shr,\n",
    "                     mis_lottitle_shr, mis_lotdesc_shr], \"text_obj_name\": [\"Title\", \"Description\",\"Personal reqs.\", \n",
    "                     \"Economic reqs.\", \"Technical reqs.\", \"Award crits.\",\n",
    "                     \"Lot title\", \"Lot desc.\"], \"type\": \"narrow\"})"
   ]
  },
  {
   "cell_type": "code",
   "execution_count": 14,
   "id": "06c0a47b-33c3-4ade-b726-e22ccbf7da36",
   "metadata": {
    "tags": []
   },
   "outputs": [],
   "source": [
    "missing_txt_fields_b = pd.DataFrame({\"missing_share\": [mis_title_shr_all, mis_desc_shr_all, mis_persreq_shr_all, \n",
    "                     mis_ecoreq_shr_all, mis_techreq_shr_all, mis_awcrit_shr_all,\n",
    "                     mis_lottitle_shr_all, mis_lotdesc_shr_all],\"text_obj_name\": [\"Title\", \"Description\",\"Personal reqs.\", \n",
    "                     \"Economic reqs.\", \"Technical reqs.\", \"Award crits.\",\n",
    "                     \"Lot title\", \"Lot desc.\"], \"type\": \"broad\"})"
   ]
  },
  {
   "cell_type": "code",
   "execution_count": 15,
   "id": "a9a3db2b-d031-4775-a496-a000830c6203",
   "metadata": {
    "tags": []
   },
   "outputs": [],
   "source": [
    "missing_txt_fields_all = pd.concat([missing_txt_fields_n, missing_txt_fields_b], ignore_index=True)"
   ]
  },
  {
   "cell_type": "code",
   "execution_count": 16,
   "id": "71589a4b-d304-4e85-b62d-c4eee5675272",
   "metadata": {
    "tags": []
   },
   "outputs": [
    {
     "data": {
      "image/png": "[encoded data removed]",
      "text/plain": [
       "<Figure size 1200x600 with 1 Axes>"
      ]
     },
     "metadata": {},
     "output_type": "display_data"
    }
   ],
   "source": [
    "fig, axes = plt.subplots(1,1, figsize = [12,6])\n",
    "\n",
    "ax = sns.barplot(x = missing_txt_fields_all[\"text_obj_name\"], \n",
    "                 y = missing_txt_fields_all[\"missing_share\"],\n",
    "                 hue = missing_txt_fields_all[\"type\"],\n",
    "                 palette = [\"lightblue\", \"mediumaquamarine\"])\n",
    "\n",
    "ax.set_ylabel(\"Missing share\")\n",
    "ax.set_xlabel(\"Text object name\")\n",
    "ax.set_title(\"Missing share of available text objects in Bulgarian PP data\")\n",
    "h, l = ax.get_legend_handles_labels()\n",
    "labels = [\"Narrow (only missing)\", \"Broad (missing + non-telling text)\"]\n",
    "ax.legend(h, labels, title=\"Filter type\")\n",
    "plt.tight_layout();\n",
    "plt.savefig('missing_share.png')"
   ]
  },
  {
   "cell_type": "code",
   "execution_count": 17,
   "id": "3aaf20e1-b3c4-40d0-8675-0f827194a74f",
   "metadata": {
    "tags": []
   },
   "outputs": [],
   "source": [
    "text_fields = [\"tender_title\",\n",
    "\"description\",\n",
    "\"personalRequirements\",\n",
    "\"economicRequirements\",\n",
    "\"technicalRequirements\",\n",
    "\"awardCriteria\",\n",
    "\"lot_title\",\n",
    "\"lot_description\"]\n",
    "\n",
    "missing_by_year = pd.DataFrame({\"tender_year\": np.arange(2007,2020,1)})\n",
    "\n",
    "for field in text_fields:\n",
    "    \n",
    "    not_av = (data_proc_wtext[(data_proc_wtext[field].isna())]\n",
    "              .groupby(\"tender_year\")[\"lot_id\"]\n",
    "              .count()\n",
    "              .to_frame()\n",
    "              .reset_index()\n",
    "              .rename(columns = {\"lot_id\": field + \"_miss\"}))\n",
    "    \n",
    "    all_ = (data_proc_wtext\n",
    "              .groupby(\"tender_year\")[\"lot_id\"]\n",
    "              .count()\n",
    "              .to_frame()\n",
    "              .reset_index()\n",
    "              .rename(columns = {\"lot_id\": field + \"_all\"}))\n",
    "    \n",
    "    field_merged = not_av.merge(all_, on = \"tender_year\")\n",
    "    field_merged[field + \"_missing_share\"] = field_merged[field + \"_miss\"]/field_merged[field + \"_all\"]\n",
    "    \n",
    "    missing_by_year = missing_by_year.merge(field_merged[[\"tender_year\", field + \"_missing_share\"]], on = \"tender_year\")\n",
    "    "
   ]
  },
  {
   "cell_type": "code",
   "execution_count": 18,
   "id": "328c6059-bda5-45c3-b09b-9b58ad5d090b",
   "metadata": {
    "tags": []
   },
   "outputs": [
    {
     "data": {
      "text/html": [
       "<div>\n",
       "<style scoped>\n",
       "    .dataframe tbody tr th:only-of-type {\n",
       "        vertical-align: middle;\n",
       "    }\n",
       "\n",
       "    .dataframe tbody tr th {\n",
       "        vertical-align: top;\n",
       "    }\n",
       "\n",
       "    .dataframe thead th {\n",
       "        text-align: right;\n",
       "    }\n",
       "</style>\n",
       "<table border=\"1\" class=\"dataframe\">\n",
       "  <thead>\n",
       "    <tr style=\"text-align: right;\">\n",
       "      <th></th>\n",
       "      <th>tender_year</th>\n",
       "      <th>tender_title_missing_share</th>\n",
       "      <th>description_missing_share</th>\n",
       "      <th>personalRequirements_missing_share</th>\n",
       "      <th>economicRequirements_missing_share</th>\n",
       "      <th>technicalRequirements_missing_share</th>\n",
       "      <th>awardCriteria_missing_share</th>\n",
       "      <th>lot_title_missing_share</th>\n",
       "      <th>lot_description_missing_share</th>\n",
       "    </tr>\n",
       "  </thead>\n",
       "  <tbody>\n",
       "    <tr>\n",
       "      <th>0</th>\n",
       "      <td>2007</td>\n",
       "      <td>0.107744</td>\n",
       "      <td>0.699004</td>\n",
       "      <td>0.699004</td>\n",
       "      <td>0.158997</td>\n",
       "      <td>0.158997</td>\n",
       "      <td>0.724845</td>\n",
       "      <td>0.236951</td>\n",
       "      <td>0.671875</td>\n",
       "    </tr>\n",
       "    <tr>\n",
       "      <th>1</th>\n",
       "      <td>2008</td>\n",
       "      <td>0.109451</td>\n",
       "      <td>0.630681</td>\n",
       "      <td>0.630681</td>\n",
       "      <td>0.166906</td>\n",
       "      <td>0.166791</td>\n",
       "      <td>0.724045</td>\n",
       "      <td>0.268429</td>\n",
       "      <td>0.652341</td>\n",
       "    </tr>\n",
       "    <tr>\n",
       "      <th>2</th>\n",
       "      <td>2009</td>\n",
       "      <td>0.054815</td>\n",
       "      <td>0.704974</td>\n",
       "      <td>0.704974</td>\n",
       "      <td>0.146384</td>\n",
       "      <td>0.146314</td>\n",
       "      <td>0.664974</td>\n",
       "      <td>0.146526</td>\n",
       "      <td>0.681693</td>\n",
       "    </tr>\n",
       "    <tr>\n",
       "      <th>3</th>\n",
       "      <td>2010</td>\n",
       "      <td>0.028369</td>\n",
       "      <td>0.601742</td>\n",
       "      <td>0.601742</td>\n",
       "      <td>0.117831</td>\n",
       "      <td>0.117831</td>\n",
       "      <td>0.616028</td>\n",
       "      <td>0.025172</td>\n",
       "      <td>0.531261</td>\n",
       "    </tr>\n",
       "    <tr>\n",
       "      <th>4</th>\n",
       "      <td>2011</td>\n",
       "      <td>0.029099</td>\n",
       "      <td>0.658813</td>\n",
       "      <td>0.658936</td>\n",
       "      <td>0.145740</td>\n",
       "      <td>0.145740</td>\n",
       "      <td>0.452415</td>\n",
       "      <td>0.025715</td>\n",
       "      <td>0.551277</td>\n",
       "    </tr>\n",
       "    <tr>\n",
       "      <th>5</th>\n",
       "      <td>2012</td>\n",
       "      <td>0.038581</td>\n",
       "      <td>0.626701</td>\n",
       "      <td>0.626990</td>\n",
       "      <td>0.156113</td>\n",
       "      <td>0.156113</td>\n",
       "      <td>0.413552</td>\n",
       "      <td>0.056805</td>\n",
       "      <td>0.497636</td>\n",
       "    </tr>\n",
       "    <tr>\n",
       "      <th>6</th>\n",
       "      <td>2013</td>\n",
       "      <td>0.028839</td>\n",
       "      <td>0.865878</td>\n",
       "      <td>0.870629</td>\n",
       "      <td>0.446551</td>\n",
       "      <td>0.446551</td>\n",
       "      <td>0.423223</td>\n",
       "      <td>0.238455</td>\n",
       "      <td>0.573926</td>\n",
       "    </tr>\n",
       "    <tr>\n",
       "      <th>7</th>\n",
       "      <td>2014</td>\n",
       "      <td>0.034538</td>\n",
       "      <td>0.937266</td>\n",
       "      <td>0.952322</td>\n",
       "      <td>0.538872</td>\n",
       "      <td>0.538872</td>\n",
       "      <td>0.347933</td>\n",
       "      <td>0.212611</td>\n",
       "      <td>0.584999</td>\n",
       "    </tr>\n",
       "    <tr>\n",
       "      <th>8</th>\n",
       "      <td>2015</td>\n",
       "      <td>0.039226</td>\n",
       "      <td>0.914964</td>\n",
       "      <td>0.985370</td>\n",
       "      <td>0.576921</td>\n",
       "      <td>0.576921</td>\n",
       "      <td>0.338362</td>\n",
       "      <td>0.264801</td>\n",
       "      <td>0.600786</td>\n",
       "    </tr>\n",
       "    <tr>\n",
       "      <th>9</th>\n",
       "      <td>2016</td>\n",
       "      <td>0.046587</td>\n",
       "      <td>0.688943</td>\n",
       "      <td>0.927468</td>\n",
       "      <td>0.586474</td>\n",
       "      <td>0.586474</td>\n",
       "      <td>0.440497</td>\n",
       "      <td>0.424816</td>\n",
       "      <td>0.565148</td>\n",
       "    </tr>\n",
       "    <tr>\n",
       "      <th>10</th>\n",
       "      <td>2017</td>\n",
       "      <td>0.003244</td>\n",
       "      <td>0.024066</td>\n",
       "      <td>0.467511</td>\n",
       "      <td>0.334415</td>\n",
       "      <td>0.334415</td>\n",
       "      <td>0.960343</td>\n",
       "      <td>0.976039</td>\n",
       "      <td>0.369991</td>\n",
       "    </tr>\n",
       "    <tr>\n",
       "      <th>11</th>\n",
       "      <td>2018</td>\n",
       "      <td>0.001084</td>\n",
       "      <td>0.014291</td>\n",
       "      <td>0.370885</td>\n",
       "      <td>0.278435</td>\n",
       "      <td>0.278435</td>\n",
       "      <td>0.985610</td>\n",
       "      <td>0.993101</td>\n",
       "      <td>0.350976</td>\n",
       "    </tr>\n",
       "    <tr>\n",
       "      <th>12</th>\n",
       "      <td>2019</td>\n",
       "      <td>0.000353</td>\n",
       "      <td>0.004594</td>\n",
       "      <td>0.387083</td>\n",
       "      <td>0.271691</td>\n",
       "      <td>0.271691</td>\n",
       "      <td>0.983654</td>\n",
       "      <td>0.998851</td>\n",
       "      <td>0.396978</td>\n",
       "    </tr>\n",
       "  </tbody>\n",
       "</table>\n",
       "</div>"
      ],
      "text/plain": [
       "    tender_year  tender_title_missing_share  description_missing_share  \\\n",
       "0          2007                    0.107744                   0.699004   \n",
       "1          2008                    0.109451                   0.630681   \n",
       "2          2009                    0.054815                   0.704974   \n",
       "3          2010                    0.028369                   0.601742   \n",
       "4          2011                    0.029099                   0.658813   \n",
       "5          2012                    0.038581                   0.626701   \n",
       "6          2013                    0.028839                   0.865878   \n",
       "7          2014                    0.034538                   0.937266   \n",
       "8          2015                    0.039226                   0.914964   \n",
       "9          2016                    0.046587                   0.688943   \n",
       "10         2017                    0.003244                   0.024066   \n",
       "11         2018                    0.001084                   0.014291   \n",
       "12         2019                    0.000353                   0.004594   \n",
       "\n",
       "    personalRequirements_missing_share  economicRequirements_missing_share  \\\n",
       "0                             0.699004                            0.158997   \n",
       "1                             0.630681                            0.166906   \n",
       "2                             0.704974                            0.146384   \n",
       "3                             0.601742                            0.117831   \n",
       "4                             0.658936                            0.145740   \n",
       "5                             0.626990                            0.156113   \n",
       "6                             0.870629                            0.446551   \n",
       "7                             0.952322                            0.538872   \n",
       "8                             0.985370                            0.576921   \n",
       "9                             0.927468                            0.586474   \n",
       "10                            0.467511                            0.334415   \n",
       "11                            0.370885                            0.278435   \n",
       "12                            0.387083                            0.271691   \n",
       "\n",
       "    technicalRequirements_missing_share  awardCriteria_missing_share  \\\n",
       "0                              0.158997                     0.724845   \n",
       "1                              0.166791                     0.724045   \n",
       "2                              0.146314                     0.664974   \n",
       "3                              0.117831                     0.616028   \n",
       "4                              0.145740                     0.452415   \n",
       "5                              0.156113                     0.413552   \n",
       "6                              0.446551                     0.423223   \n",
       "7                              0.538872                     0.347933   \n",
       "8                              0.576921                     0.338362   \n",
       "9                              0.586474                     0.440497   \n",
       "10                             0.334415                     0.960343   \n",
       "11                             0.278435                     0.985610   \n",
       "12                             0.271691                     0.983654   \n",
       "\n",
       "    lot_title_missing_share  lot_description_missing_share  \n",
       "0                  0.236951                       0.671875  \n",
       "1                  0.268429                       0.652341  \n",
       "2                  0.146526                       0.681693  \n",
       "3                  0.025172                       0.531261  \n",
       "4                  0.025715                       0.551277  \n",
       "5                  0.056805                       0.497636  \n",
       "6                  0.238455                       0.573926  \n",
       "7                  0.212611                       0.584999  \n",
       "8                  0.264801                       0.600786  \n",
       "9                  0.424816                       0.565148  \n",
       "10                 0.976039                       0.369991  \n",
       "11                 0.993101                       0.350976  \n",
       "12                 0.998851                       0.396978  "
      ]
     },
     "execution_count": 18,
     "metadata": {},
     "output_type": "execute_result"
    }
   ],
   "source": [
    "missing_by_year"
   ]
  },
  {
   "cell_type": "code",
   "execution_count": 19,
   "id": "344ad250-9aeb-4837-a2be-51530a297dfa",
   "metadata": {
    "tags": []
   },
   "outputs": [],
   "source": [
    "def get_av_length(data,col,name):\n",
    "    return {\"txt_obj_name\": name,\"Av_text_length\" : round(data[col].str.len().mean())}"
   ]
  },
  {
   "cell_type": "code",
   "execution_count": 20,
   "id": "d42393bd-ba52-4ff4-847a-624d652b4e33",
   "metadata": {
    "tags": []
   },
   "outputs": [],
   "source": [
    "# Initialize av_text_length as an empty DataFrame\n",
    "av_text_length = pd.DataFrame()\n",
    "\n",
    "col_names = [\"Title\", \"Description\", \"Personal reqs.\", \"Economic reqs.\", \n",
    "             \"Technical reqs.\", \"Award crits.\", \"Lot title\", \"Lot desc.\"]\n",
    "cols = [\"tender_title\", \"description\", \"personalRequirements\", \"economicRequirements\",\n",
    "        \"technicalRequirements\", \"awardCriteria\", \"lot_title\", \"lot_description\"]\n",
    "\n",
    "for col, name in zip(cols, col_names):\n",
    "    # Convert the result of get_av_length to a DataFrame before concatenating\n",
    "    new_data = pd.DataFrame([get_av_length(data_proc_wtext, col, name)])\n",
    "    \n",
    "    # Concatenate the new DataFrame with the existing one\n",
    "    av_text_length = pd.concat([av_text_length, new_data], ignore_index=True)"
   ]
  },
  {
   "cell_type": "code",
   "execution_count": 21,
   "id": "61f32e78-5d2c-4e23-97c3-54c3df4f868e",
   "metadata": {
    "tags": []
   },
   "outputs": [
    {
     "data": {
      "image/png": "[encoded data removed]",
      "text/plain": [
       "<Figure size 1200x600 with 1 Axes>"
      ]
     },
     "metadata": {},
     "output_type": "display_data"
    }
   ],
   "source": [
    "fig, axes = plt.subplots(1,1, figsize = [12,6])\n",
    "\n",
    "#av_text_length.sort_value(by = \"Av_text_length\", inplace = True)\n",
    "\n",
    "ax = sns.barplot(x = av_text_length[\"txt_obj_name\"], \n",
    "                 y = av_text_length[\"Av_text_length\"],\n",
    "                 color = \"lightblue\")\n",
    "\n",
    "ax.set_ylabel(\"Average length (char)\")\n",
    "ax.set_xlabel(\"Text object name\")\n",
    "ax.set_title(\"Average length of text fields\");\n",
    "\n",
    "plt.tight_layout();\n",
    "plt.savefig('avg_text_length.png')"
   ]
  },
  {
   "cell_type": "code",
   "execution_count": 22,
   "id": "7c9b3893-e5e3-4cec-84bb-3da01ae88bd1",
   "metadata": {
    "tags": []
   },
   "outputs": [],
   "source": [
    "cols = [\"tender_title\",\"description\",\"personalRequirements\",\"economicRequirements\",\n",
    "            \"technicalRequirements\",\"awardCriteria\",\"lot_title\",\"lot_description\"]\n",
    "\n",
    "text_length = pd.DataFrame({\"tender_year\": np.arange(2007,2020,1)})\n",
    "\n",
    "for col in cols:\n",
    "    length = (data_proc_wtext\n",
    "              .groupby(\"tender_year\")[col]\n",
    "              .apply(lambda x: np.mean(x.str.len()))\n",
    "              .to_frame()\n",
    "              .reset_index())\n",
    "    \n",
    "    text_length = text_length.merge(length, on = \"tender_year\")"
   ]
  },
  {
   "cell_type": "code",
   "execution_count": 23,
   "id": "56e9f85e-61ca-4b05-9d28-246d5cb73c23",
   "metadata": {
    "tags": []
   },
   "outputs": [],
   "source": [
    "length = (data_proc_wtext\n",
    "              .groupby(\"tender_year\")[\"awardCriteria\"]\n",
    "              .apply(lambda x: np.mean(x.str.len()))\n",
    "              .to_frame()\n",
    "              .reset_index())"
   ]
  },
  {
   "cell_type": "code",
   "execution_count": 24,
   "id": "6c449053-d30d-4533-90f4-42f4d0cd3aaf",
   "metadata": {
    "tags": []
   },
   "outputs": [
    {
     "data": {
      "text/html": [
       "<div>\n",
       "<style scoped>\n",
       "    .dataframe tbody tr th:only-of-type {\n",
       "        vertical-align: middle;\n",
       "    }\n",
       "\n",
       "    .dataframe tbody tr th {\n",
       "        vertical-align: top;\n",
       "    }\n",
       "\n",
       "    .dataframe thead th {\n",
       "        text-align: right;\n",
       "    }\n",
       "</style>\n",
       "<table border=\"1\" class=\"dataframe\">\n",
       "  <thead>\n",
       "    <tr style=\"text-align: right;\">\n",
       "      <th></th>\n",
       "      <th>tender_year</th>\n",
       "      <th>tender_title</th>\n",
       "      <th>description</th>\n",
       "      <th>personalRequirements</th>\n",
       "      <th>economicRequirements</th>\n",
       "      <th>technicalRequirements</th>\n",
       "      <th>awardCriteria</th>\n",
       "      <th>lot_title</th>\n",
       "      <th>lot_description</th>\n",
       "    </tr>\n",
       "  </thead>\n",
       "  <tbody>\n",
       "    <tr>\n",
       "      <th>0</th>\n",
       "      <td>2007</td>\n",
       "      <td>146.700568</td>\n",
       "      <td>329.100114</td>\n",
       "      <td>827.504278</td>\n",
       "      <td>361.758167</td>\n",
       "      <td>724.349122</td>\n",
       "      <td>8.000000</td>\n",
       "      <td>79.437669</td>\n",
       "      <td>147.699110</td>\n",
       "    </tr>\n",
       "    <tr>\n",
       "      <th>1</th>\n",
       "      <td>2008</td>\n",
       "      <td>177.790258</td>\n",
       "      <td>372.666615</td>\n",
       "      <td>917.606254</td>\n",
       "      <td>417.082207</td>\n",
       "      <td>849.907599</td>\n",
       "      <td>8.000000</td>\n",
       "      <td>83.933951</td>\n",
       "      <td>143.020988</td>\n",
       "    </tr>\n",
       "    <tr>\n",
       "      <th>2</th>\n",
       "      <td>2009</td>\n",
       "      <td>181.844305</td>\n",
       "      <td>406.377331</td>\n",
       "      <td>1062.355811</td>\n",
       "      <td>532.556281</td>\n",
       "      <td>1155.456078</td>\n",
       "      <td>8.000000</td>\n",
       "      <td>101.777484</td>\n",
       "      <td>162.284574</td>\n",
       "    </tr>\n",
       "    <tr>\n",
       "      <th>3</th>\n",
       "      <td>2010</td>\n",
       "      <td>204.951827</td>\n",
       "      <td>455.169628</td>\n",
       "      <td>2387.142296</td>\n",
       "      <td>721.789697</td>\n",
       "      <td>1558.437572</td>\n",
       "      <td>8.000000</td>\n",
       "      <td>112.677158</td>\n",
       "      <td>165.326560</td>\n",
       "    </tr>\n",
       "    <tr>\n",
       "      <th>4</th>\n",
       "      <td>2011</td>\n",
       "      <td>219.107337</td>\n",
       "      <td>490.627660</td>\n",
       "      <td>2014.850649</td>\n",
       "      <td>791.981348</td>\n",
       "      <td>2000.990782</td>\n",
       "      <td>8.000000</td>\n",
       "      <td>119.853760</td>\n",
       "      <td>182.782972</td>\n",
       "    </tr>\n",
       "    <tr>\n",
       "      <th>5</th>\n",
       "      <td>2012</td>\n",
       "      <td>236.334533</td>\n",
       "      <td>532.737834</td>\n",
       "      <td>2367.831633</td>\n",
       "      <td>1025.902959</td>\n",
       "      <td>2491.988587</td>\n",
       "      <td>8.000000</td>\n",
       "      <td>121.877591</td>\n",
       "      <td>203.485937</td>\n",
       "    </tr>\n",
       "    <tr>\n",
       "      <th>6</th>\n",
       "      <td>2013</td>\n",
       "      <td>261.368622</td>\n",
       "      <td>494.698548</td>\n",
       "      <td>2610.488432</td>\n",
       "      <td>1229.063181</td>\n",
       "      <td>2850.216928</td>\n",
       "      <td>8.000000</td>\n",
       "      <td>113.440327</td>\n",
       "      <td>273.373662</td>\n",
       "    </tr>\n",
       "    <tr>\n",
       "      <th>7</th>\n",
       "      <td>2014</td>\n",
       "      <td>251.117858</td>\n",
       "      <td>353.037818</td>\n",
       "      <td>3062.019139</td>\n",
       "      <td>1294.467003</td>\n",
       "      <td>2868.220342</td>\n",
       "      <td>8.000000</td>\n",
       "      <td>109.856588</td>\n",
       "      <td>275.560466</td>\n",
       "    </tr>\n",
       "    <tr>\n",
       "      <th>8</th>\n",
       "      <td>2015</td>\n",
       "      <td>265.810516</td>\n",
       "      <td>402.348925</td>\n",
       "      <td>3049.053125</td>\n",
       "      <td>371.289713</td>\n",
       "      <td>2738.781500</td>\n",
       "      <td>8.000000</td>\n",
       "      <td>113.574405</td>\n",
       "      <td>285.929111</td>\n",
       "    </tr>\n",
       "    <tr>\n",
       "      <th>9</th>\n",
       "      <td>2016</td>\n",
       "      <td>302.985766</td>\n",
       "      <td>458.807149</td>\n",
       "      <td>1285.495283</td>\n",
       "      <td>268.377551</td>\n",
       "      <td>2553.240485</td>\n",
       "      <td>8.000000</td>\n",
       "      <td>123.865768</td>\n",
       "      <td>443.423289</td>\n",
       "    </tr>\n",
       "    <tr>\n",
       "      <th>10</th>\n",
       "      <td>2017</td>\n",
       "      <td>139.254671</td>\n",
       "      <td>487.897824</td>\n",
       "      <td>820.849086</td>\n",
       "      <td>26.428863</td>\n",
       "      <td>83.019965</td>\n",
       "      <td>8.000000</td>\n",
       "      <td>128.371179</td>\n",
       "      <td>916.355921</td>\n",
       "    </tr>\n",
       "    <tr>\n",
       "      <th>11</th>\n",
       "      <td>2018</td>\n",
       "      <td>129.144055</td>\n",
       "      <td>513.381362</td>\n",
       "      <td>867.031020</td>\n",
       "      <td>5.013386</td>\n",
       "      <td>13.887310</td>\n",
       "      <td>8.000000</td>\n",
       "      <td>148.900000</td>\n",
       "      <td>972.167806</td>\n",
       "    </tr>\n",
       "    <tr>\n",
       "      <th>12</th>\n",
       "      <td>2019</td>\n",
       "      <td>128.291497</td>\n",
       "      <td>505.694656</td>\n",
       "      <td>967.120946</td>\n",
       "      <td>2.091472</td>\n",
       "      <td>3.152614</td>\n",
       "      <td>7.994595</td>\n",
       "      <td>76.538462</td>\n",
       "      <td>997.396337</td>\n",
       "    </tr>\n",
       "  </tbody>\n",
       "</table>\n",
       "</div>"
      ],
      "text/plain": [
       "    tender_year  tender_title  description  personalRequirements  \\\n",
       "0          2007    146.700568   329.100114            827.504278   \n",
       "1          2008    177.790258   372.666615            917.606254   \n",
       "2          2009    181.844305   406.377331           1062.355811   \n",
       "3          2010    204.951827   455.169628           2387.142296   \n",
       "4          2011    219.107337   490.627660           2014.850649   \n",
       "5          2012    236.334533   532.737834           2367.831633   \n",
       "6          2013    261.368622   494.698548           2610.488432   \n",
       "7          2014    251.117858   353.037818           3062.019139   \n",
       "8          2015    265.810516   402.348925           3049.053125   \n",
       "9          2016    302.985766   458.807149           1285.495283   \n",
       "10         2017    139.254671   487.897824            820.849086   \n",
       "11         2018    129.144055   513.381362            867.031020   \n",
       "12         2019    128.291497   505.694656            967.120946   \n",
       "\n",
       "    economicRequirements  technicalRequirements  awardCriteria   lot_title  \\\n",
       "0             361.758167             724.349122       8.000000   79.437669   \n",
       "1             417.082207             849.907599       8.000000   83.933951   \n",
       "2             532.556281            1155.456078       8.000000  101.777484   \n",
       "3             721.789697            1558.437572       8.000000  112.677158   \n",
       "4             791.981348            2000.990782       8.000000  119.853760   \n",
       "5            1025.902959            2491.988587       8.000000  121.877591   \n",
       "6            1229.063181            2850.216928       8.000000  113.440327   \n",
       "7            1294.467003            2868.220342       8.000000  109.856588   \n",
       "8             371.289713            2738.781500       8.000000  113.574405   \n",
       "9             268.377551            2553.240485       8.000000  123.865768   \n",
       "10             26.428863              83.019965       8.000000  128.371179   \n",
       "11              5.013386              13.887310       8.000000  148.900000   \n",
       "12              2.091472               3.152614       7.994595   76.538462   \n",
       "\n",
       "    lot_description  \n",
       "0        147.699110  \n",
       "1        143.020988  \n",
       "2        162.284574  \n",
       "3        165.326560  \n",
       "4        182.782972  \n",
       "5        203.485937  \n",
       "6        273.373662  \n",
       "7        275.560466  \n",
       "8        285.929111  \n",
       "9        443.423289  \n",
       "10       916.355921  \n",
       "11       972.167806  \n",
       "12       997.396337  "
      ]
     },
     "execution_count": 24,
     "metadata": {},
     "output_type": "execute_result"
    }
   ],
   "source": [
    "text_length"
   ]
  },
  {
   "cell_type": "markdown",
   "id": "62db768f-2f7a-4685-a7a1-68a807e58b07",
   "metadata": {},
   "source": [
    "### Finding green procurements with keywords"
   ]
  },
  {
   "cell_type": "code",
   "execution_count": 25,
   "id": "6c9819c0-05eb-4435-b17c-bd21345cc2c4",
   "metadata": {
    "tags": []
   },
   "outputs": [],
   "source": [
    "data_loc = \"/Users/file/directory\""
   ]
  },
  {
   "cell_type": "code",
   "execution_count": 26,
   "id": "027d2489-42cd-436e-9a31-2c5cdec532a8",
   "metadata": {
    "tags": []
   },
   "outputs": [],
   "source": [
    "keywords = pd.read_csv(data_loc + \"/green_procurement_keywords.csv\")\n",
    "stopwords = pd.read_csv(data_loc + \"/bulgarian_stopwords.txt\").rename(columns = {'а': \"stopwords\"})"
   ]
  },
  {
   "cell_type": "code",
   "execution_count": 27,
   "id": "5f5aedd0-52e9-4000-9527-146c6eef5e16",
   "metadata": {
    "tags": []
   },
   "outputs": [],
   "source": [
    "stopwords_pattern = ' | '.join(stopwords[\"stopwords\"])"
   ]
  },
  {
   "cell_type": "code",
   "execution_count": 28,
   "id": "e0022f94-07e9-4ce1-a161-eb2335de616a",
   "metadata": {
    "tags": []
   },
   "outputs": [],
   "source": [
    "#removing stopwords from keywords and text columns\n",
    "def stop_words(data,col, stopwords):\n",
    "    \n",
    "    #Pre-cleaning\n",
    "    data[col + \"_clean\"] = data[col].str.lower().str.replace('\\W', \" \", regex = True) #spec char.\n",
    "    #data[col + \"_clean\"] = data[col + \"_clean\"].str.replace('\\d+', \"\", regex = True) #nums.\n",
    "    \n",
    "    #stop words\n",
    "    data[col + \"_clean\"] = data[col + \"_clean\"].str.replace(stopwords_pattern, \" \", regex=True)\n",
    "    \n",
    "    #Remove double spaces & tabs\n",
    "    data[col + \"_clean\"] = data[col + \"_clean\"].str.lower().str.replace('  ', \" \", regex = False)\n",
    "    data[col + \"_clean\"] = data[col + \"_clean\"].str.lower().str.replace('\\t', \" \", regex = True)\n",
    "    \n",
    "    return data"
   ]
  },
  {
   "cell_type": "code",
   "execution_count": 29,
   "id": "0755234c-7b50-4c73-ba90-32fb9524ed53",
   "metadata": {
    "tags": []
   },
   "outputs": [],
   "source": [
    "cols = [\"tender_title\",\"description\",\"personalRequirements\",\"economicRequirements\",\n",
    "            \"technicalRequirements\",\"awardCriteria\",\"lot_title\",\"lot_description\"]\n",
    "\n",
    "data_proc_wcleantext = data_proc_wtext.copy()\n",
    "for col in cols:\n",
    "    data_proc_wcleantext = stop_words(data_proc_wcleantext, col, stopwords)"
   ]
  },
  {
   "cell_type": "code",
   "execution_count": 30,
   "id": "ab659bc7-8d02-4a63-bc13-6783ac24201b",
   "metadata": {
    "tags": []
   },
   "outputs": [],
   "source": [
    "keywords_wcleantext = stop_words(keywords, \"green_word_bg\", stopwords)\n",
    "keywords_pattern = ' | '.join(keywords_wcleantext[\"green_word_bg_clean\"])"
   ]
  },
  {
   "cell_type": "code",
   "execution_count": 31,
   "id": "8ee9cc5e-fa5c-4359-90d0-413d9dc83651",
   "metadata": {
    "tags": []
   },
   "outputs": [],
   "source": [
    "#Creating green procurement dummies\n",
    "def green_dummies(data, col, keywords):\n",
    "\n",
    "    data[\"green_pp_dummy_{}\".format(col.replace(\"_clean\",\"\"))] = np.where(\n",
    "        (data[col].str.contains(keywords)) &\n",
    "        ~(data[col].isna()),1,0)\n",
    "    return data"
   ]
  },
  {
   "cell_type": "code",
   "execution_count": 32,
   "id": "695e3539-3f03-40ea-9368-f46c1790dc99",
   "metadata": {
    "tags": []
   },
   "outputs": [],
   "source": [
    "cols_clean = [\"tender_title_clean\",\"description_clean\",\"personalRequirements_clean\",\"economicRequirements_clean\",\n",
    "            \"technicalRequirements_clean\",\"awardCriteria_clean\",\"lot_title_clean\",\"lot_description_clean\"]\n",
    "\n",
    "for col in cols_clean:\n",
    "    data_proc_wcleantext = green_dummies(data_proc_wcleantext, col, keywords_pattern)"
   ]
  },
  {
   "cell_type": "code",
   "execution_count": 33,
   "id": "60d4bc47-073d-4168-b1ef-c2de30a21fa4",
   "metadata": {
    "tags": []
   },
   "outputs": [],
   "source": [
    "data_proc_wcleantext[\"green_pp_dummy\"] = np.where(\n",
    "    data_proc_wcleantext[data_proc_wcleantext.columns[-len(cols_clean):]].sum(axis = 1) > 0, \n",
    "    1,0)"
   ]
  },
  {
   "cell_type": "code",
   "execution_count": 34,
   "id": "8cec38f1-e460-4100-83bf-6925f8f54c8a",
   "metadata": {
    "tags": []
   },
   "outputs": [
    {
     "data": {
      "text/plain": [
       "13293"
      ]
     },
     "execution_count": 34,
     "metadata": {},
     "output_type": "execute_result"
    }
   ],
   "source": [
    "len(data_proc_wcleantext[data_proc_wcleantext[\"green_pp_dummy\"] == 1])"
   ]
  },
  {
   "cell_type": "code",
   "execution_count": 38,
   "id": "8316f88d-13ce-40b5-9d30-24019fa23018",
   "metadata": {
    "tags": []
   },
   "outputs": [],
   "source": [
    "data_proc_wcleantext[\"main_cpv_full\"] = data_proc_wcleantext[\"tender_cpvs\"].str.split(\",\").str[0]\n",
    "data_proc_wcleantext[\"main_cpv_4\"] = data_proc_wcleantext[\"tender_cpvs\"].str.split(\",\").str[0].str[:4]\n",
    "data_proc_wcleantext[\"main_cpv_div\"] = data_proc_wcleantext[\"tender_cpvs\"].str.split(\",\").str[0].str[:2]"
   ]
  },
  {
   "cell_type": "code",
   "execution_count": 39,
   "id": "2fd99a51-f1bf-4c9c-bbb5-af998d5dce81",
   "metadata": {
    "tags": []
   },
   "outputs": [],
   "source": [
    "green_cpvs = [\"42914000\",\"90514000\",\"45213270\",\"90715270\",\"71314300\", \n",
    "\"45261410\",\"45321000\", \"90730000\",\"90715000\",\"60651300\",\"45262640\",\"71313000\",\n",
    "\"80540000\",\"90700000\",\"31121300\",\"09330000\",\"45261215\",\"45251141\"]\n",
    "\n",
    "green_cpvs = [i.rstrip(\"0\") for i in green_cpvs]"
   ]
  },
  {
   "cell_type": "code",
   "execution_count": 40,
   "id": "2909a2fe-425a-4a55-96a5-277633b49a0b",
   "metadata": {
    "tags": []
   },
   "outputs": [],
   "source": [
    "data_proc_wcleantext[\"green_pp_dummy\"] = (np.where(\n",
    "    data_proc_wcleantext[\"main_cpv_full\"]\n",
    "    .str\n",
    "    .startswith(\n",
    "        tuple(green_cpvs), \n",
    "        na=False), \n",
    "    1, \n",
    "    data_proc_wcleantext[\"green_pp_dummy\"]))"
   ]
  },
  {
   "cell_type": "code",
   "execution_count": 41,
   "id": "07f3cbf8-64f4-4f5a-96cd-69277f052e59",
   "metadata": {
    "tags": []
   },
   "outputs": [],
   "source": [
    "data_proc_wcleantext = data_proc_wcleantext[(data_proc_wcleantext[\"tender_year\"] >= 2011) & \n",
    "                                           (data_proc_wcleantext[\"tender_year\"] <= 2019)]"
   ]
  },
  {
   "cell_type": "code",
   "execution_count": 42,
   "id": "d6befe52-13ba-4d8a-940c-bca630111aad",
   "metadata": {
    "tags": []
   },
   "outputs": [
    {
     "data": {
      "text/plain": [
       "11073"
      ]
     },
     "execution_count": 42,
     "metadata": {},
     "output_type": "execute_result"
    }
   ],
   "source": [
    "len(data_proc_wcleantext[data_proc_wcleantext[\"green_pp_dummy\"] == 1])"
   ]
  },
  {
   "cell_type": "code",
   "execution_count": 43,
   "id": "7b132efe-f16a-48be-8e77-61d4769ce0f1",
   "metadata": {
    "tags": []
   },
   "outputs": [
    {
     "data": {
      "text/plain": [
       "6426"
      ]
     },
     "execution_count": 43,
     "metadata": {},
     "output_type": "execute_result"
    }
   ],
   "source": [
    "len(data_proc_wcleantext[data_proc_wcleantext[\"green_pp_dummy\"] == 1].drop_duplicates(\"tender_id\"))"
   ]
  },
  {
   "cell_type": "markdown",
   "id": "9f1b2410-d474-45df-8841-02397e729404",
   "metadata": {},
   "source": [
    "### Figure 2: Yearly contract value and volume distribution of Green Public Procurement"
   ]
  },
  {
   "cell_type": "code",
   "execution_count": 44,
   "id": "96be48a5-2714-4207-a098-2cfcd6c63e91",
   "metadata": {
    "tags": []
   },
   "outputs": [],
   "source": [
    "fig1_d = (data_proc_wcleantext\n",
    "          .groupby([\"tender_year\", \"green_pp_dummy\"])\n",
    "          .agg({\"lot_id\":\"count\", \"bid_price\": sum})\n",
    "          .reset_index()\n",
    "          .pivot(index = \"tender_year\", columns = \"green_pp_dummy\", values = [\"lot_id\", \"bid_price\"])\n",
    "          .reset_index())\n",
    "\n",
    "fig1_d = fig1_d[(fig1_d[\"tender_year\"]>=2011) & (fig1_d[\"tender_year\"]<=2019)].reset_index(drop = True)\n",
    "fig1_d.columns = [\"tender_year\", \"count_other\", \"count_green\", 'contract_value_other', 'contract_value_green']"
   ]
  },
  {
   "cell_type": "code",
   "execution_count": 45,
   "id": "89ef6b9b-ee98-4887-ac55-7fee6dc4ca1b",
   "metadata": {
    "tags": []
   },
   "outputs": [],
   "source": [
    "fig1_d[\"volume_share\"] = fig1_d[\"count_green\"]/(fig1_d[\"count_green\"]+fig1_d[\"count_other\"])\n",
    "fig1_d[\"value_share\"] = fig1_d[\"contract_value_green\"]/(fig1_d[\"contract_value_green\"]+fig1_d[\"contract_value_other\"])\n",
    "fig1_d[\"contract_value_green_m\"] = fig1_d[\"contract_value_green\"]/1000000"
   ]
  },
  {
   "cell_type": "code",
   "execution_count": 49,
   "id": "bd524fca-8c8a-45d8-b1ca-72d6a2792f0b",
   "metadata": {
    "tags": []
   },
   "outputs": [
    {
     "data": {
      "image/png": "[encoded data removed]",
      "text/plain": [
       "<Figure size 800x1000 with 4 Axes>"
      ]
     },
     "metadata": {},
     "output_type": "display_data"
    }
   ],
   "source": [
    "fig, ax = plt.subplots(2,1, figsize = [8,10])\n",
    "f1 = sns.barplot(\n",
    "    x = \"tender_year\",\n",
    "    y = \"contract_value_green_m\",\n",
    "    data = fig1_d, \n",
    "    color = \"lightblue\", ax = ax[0])\n",
    "\n",
    "#f1.set_ylim(0,80)\n",
    "f1.set_ylabel(\"Total contract value (BGN, million)\")\n",
    "f1.set_xlabel(\"Contract year\")\n",
    "f1.set_title(\"Contract value & value share of Green Public Procurements\")\n",
    "\n",
    "f1.set_axisbelow(True)\n",
    "f1.yaxis.grid(color='gray', alpha = 0.5)\n",
    "f1.set_axisbelow(True)\n",
    "f1.xaxis.grid(color='gray', alpha = 0.5)\n",
    "\n",
    "f1.spines[\"right\"].set_visible(False)\n",
    "\n",
    "f2 = f1.twinx()\n",
    "f2.grid(False)\n",
    "\n",
    "f2.plot(fig1_d[\"value_share\"],\n",
    "        ':o',\n",
    "        color = \"red\", \n",
    "        linewidth=3,\n",
    "        label = \"Value share\")\n",
    "\n",
    "f2.set_ylim(0,0.3)\n",
    "f2.legend()\n",
    "f2.set_ylabel(\"Green procurement value share\")\n",
    "\n",
    "loc_x = 0\n",
    "for i in fig1_d[\"value_share\"]:\n",
    "    f2.annotate(str(round(i*100,1)) + \"%\", xy = (loc_x-0.01,i+0.002))\n",
    "    #ax.annotate(str(round(z*100)) + \"%\", xy = (loc_x-0.4,z-0.02))\n",
    "    loc_x += 1\n",
    "\n",
    "f3 = sns.barplot(\n",
    "    x = \"tender_year\",\n",
    "    y = \"count_green\",\n",
    "    data = fig1_d, \n",
    "    color = \"mediumaquamarine\", ax = ax[1])\n",
    "\n",
    "#f3.set_ylim(0,2000)\n",
    "f3.set_ylabel(\"Number of contracts\")\n",
    "f3.set_xlabel(\"Contract year\")\n",
    "f3.set_title(\"Contract number & volume share of Green Public Procurements\")\n",
    "\n",
    "f3.set_axisbelow(True)\n",
    "f3.yaxis.grid(color='gray', alpha = 0.5)\n",
    "f3.set_axisbelow(True)\n",
    "f3.xaxis.grid(color='gray', alpha = 0.5)\n",
    "\n",
    "f4 = f3.twinx()\n",
    "f4.grid(False)\n",
    "\n",
    "f4.plot(fig1_d[\"volume_share\"],\n",
    "        ':o',\n",
    "        color = \"lightsalmon\", \n",
    "        linewidth=3,\n",
    "        label = \"Volume share\")\n",
    "\n",
    "f4.set_ylim(0,0.3)\n",
    "f4.legend()\n",
    "f4.set_ylabel(\"Green procurement volume share\")\n",
    "\n",
    "loc_x = 0\n",
    "for i in fig1_d[\"volume_share\"]:\n",
    "    f4.annotate(str(round(i*100,1)) + \"%\", xy = (loc_x-0.01,i+0.002))\n",
    "    #ax.annotate(str(round(z*100)) + \"%\", xy = (loc_x-0.4,z-0.02))\n",
    "    loc_x += 1\n",
    "\n",
    "plt.tight_layout();\n",
    "\n",
    "plt.savefig('yearly_dist.png')"
   ]
  },
  {
   "cell_type": "markdown",
   "id": "6971a33a-8a19-4c19-b65e-73cec53631a8",
   "metadata": {
    "tags": []
   },
   "source": [
    "***Filtering  off energy efficiency***"
   ]
  },
  {
   "cell_type": "code",
   "execution_count": 50,
   "id": "c4dcbd76-ea05-4dd0-8536-d9f39075d4bd",
   "metadata": {
    "tags": []
   },
   "outputs": [],
   "source": [
    "keywords_robust1 = keywords[keywords[\"green_word_eng\"] != \"energy efficiency\"]"
   ]
  },
  {
   "cell_type": "code",
   "execution_count": 51,
   "id": "d2f29947-dd3b-46a4-b73b-77f100eeb9c6",
   "metadata": {
    "tags": []
   },
   "outputs": [],
   "source": [
    "cols = [\"tender_title\",\"description\",\"personalRequirements\",\"economicRequirements\",\n",
    "            \"technicalRequirements\",\"awardCriteria\",\"lot_title\",\"lot_description\"]\n",
    "\n",
    "data_proc_wcleantext_r1 = data_proc_wtext.copy()\n",
    "for col in cols:\n",
    "    data_proc_wcleantext_r1 = stop_words(data_proc_wcleantext_r1, col, stopwords)"
   ]
  },
  {
   "cell_type": "code",
   "execution_count": 52,
   "id": "a1627284-43bb-4b8a-97a4-339e1b21b4c1",
   "metadata": {
    "tags": []
   },
   "outputs": [
    {
     "name": "stderr",
     "output_type": "stream",
     "text": [
      "/var/folders/zb/jpk18xf50b57s6s50g3z6k900000gn/T/ipykernel_4449/4216104641.py:5: SettingWithCopyWarning: \n",
      "A value is trying to be set on a copy of a slice from a DataFrame.\n",
      "Try using .loc[row_indexer,col_indexer] = value instead\n",
      "\n",
      "See the caveats in the documentation: https://pandas.pydata.org/pandas-docs/stable/user_guide/indexing.html#returning-a-view-versus-a-copy\n",
      "  data[col + \"_clean\"] = data[col].str.lower().str.replace('\\W', \" \", regex = True) #spec char.\n",
      "/var/folders/zb/jpk18xf50b57s6s50g3z6k900000gn/T/ipykernel_4449/4216104641.py:9: SettingWithCopyWarning: \n",
      "A value is trying to be set on a copy of a slice from a DataFrame.\n",
      "Try using .loc[row_indexer,col_indexer] = value instead\n",
      "\n",
      "See the caveats in the documentation: https://pandas.pydata.org/pandas-docs/stable/user_guide/indexing.html#returning-a-view-versus-a-copy\n",
      "  data[col + \"_clean\"] = data[col + \"_clean\"].str.replace(stopwords_pattern, \" \", regex=True)\n",
      "/var/folders/zb/jpk18xf50b57s6s50g3z6k900000gn/T/ipykernel_4449/4216104641.py:12: SettingWithCopyWarning: \n",
      "A value is trying to be set on a copy of a slice from a DataFrame.\n",
      "Try using .loc[row_indexer,col_indexer] = value instead\n",
      "\n",
      "See the caveats in the documentation: https://pandas.pydata.org/pandas-docs/stable/user_guide/indexing.html#returning-a-view-versus-a-copy\n",
      "  data[col + \"_clean\"] = data[col + \"_clean\"].str.lower().str.replace('  ', \" \", regex = False)\n",
      "/var/folders/zb/jpk18xf50b57s6s50g3z6k900000gn/T/ipykernel_4449/4216104641.py:13: SettingWithCopyWarning: \n",
      "A value is trying to be set on a copy of a slice from a DataFrame.\n",
      "Try using .loc[row_indexer,col_indexer] = value instead\n",
      "\n",
      "See the caveats in the documentation: https://pandas.pydata.org/pandas-docs/stable/user_guide/indexing.html#returning-a-view-versus-a-copy\n",
      "  data[col + \"_clean\"] = data[col + \"_clean\"].str.lower().str.replace('\\t', \" \", regex = True)\n"
     ]
    }
   ],
   "source": [
    "keywords_wcleantext_r1 = stop_words(keywords_robust1, \"green_word_bg\", stopwords)\n",
    "keywords_pattern_r1 = ' | '.join(keywords_wcleantext_r1[\"green_word_bg_clean\"])"
   ]
  },
  {
   "cell_type": "code",
   "execution_count": 53,
   "id": "7b29d4aa-64b0-483f-9ba2-431bfd9c381d",
   "metadata": {
    "tags": []
   },
   "outputs": [],
   "source": [
    "cols_clean = [\"tender_title_clean\",\"description_clean\",\"personalRequirements_clean\",\"economicRequirements_clean\",\n",
    "            \"technicalRequirements_clean\",\"awardCriteria_clean\",\"lot_title_clean\",\"lot_description_clean\"]\n",
    "\n",
    "for col in cols_clean:\n",
    "    data_proc_wcleantext_r1 = green_dummies(data_proc_wcleantext_r1, col, keywords_pattern_r1)"
   ]
  },
  {
   "cell_type": "code",
   "execution_count": 54,
   "id": "5088162a-2874-41fc-842f-78274e1d68e5",
   "metadata": {
    "tags": []
   },
   "outputs": [],
   "source": [
    "data_proc_wcleantext_r1[\"green_pp_dummy\"] = np.where(\n",
    "    data_proc_wcleantext_r1[data_proc_wcleantext_r1.columns[-len(cols_clean):]].sum(axis = 1) > 0, \n",
    "    1,0)"
   ]
  },
  {
   "cell_type": "code",
   "execution_count": 55,
   "id": "e0bab796-454b-4414-b71e-e97a3636141b",
   "metadata": {
    "tags": []
   },
   "outputs": [
    {
     "data": {
      "text/plain": [
       "8673"
      ]
     },
     "execution_count": 55,
     "metadata": {},
     "output_type": "execute_result"
    }
   ],
   "source": [
    "len(data_proc_wcleantext_r1[data_proc_wcleantext_r1[\"green_pp_dummy\"] == 1])"
   ]
  },
  {
   "cell_type": "markdown",
   "id": "7ab2acfb-0d10-4fdd-85ba-5280b6273ac5",
   "metadata": {},
   "source": [
    "### Additional CPV based filtering"
   ]
  },
  {
   "cell_type": "code",
   "execution_count": 56,
   "id": "9b41e297-0623-4227-851f-b036b7094d51",
   "metadata": {
    "tags": []
   },
   "outputs": [],
   "source": [
    "data_proc_wcleantext_r1[\"main_cpv_full\"] = data_proc_wcleantext_r1[\"tender_cpvs\"].str.split(\",\").str[0]\n",
    "data_proc_wcleantext_r1[\"main_cpv_4\"] = data_proc_wcleantext_r1[\"tender_cpvs\"].str.split(\",\").str[0].str[:4]\n",
    "data_proc_wcleantext_r1[\"main_cpv_div\"] = data_proc_wcleantext_r1[\"tender_cpvs\"].str.split(\",\").str[0].str[:2]"
   ]
  },
  {
   "cell_type": "code",
   "execution_count": 57,
   "id": "63293001-cfa5-4679-877e-5de1e81fbf97",
   "metadata": {
    "tags": []
   },
   "outputs": [],
   "source": [
    "green_cpvs = [\"42914000\",\"90514000\",\"45213270\",\"90715270\",\"71314300\", \n",
    "\"45261410\",\"45321000\", \"90730000\",\"90715000\",\"60651300\",\"45262640\",\"71313000\",\n",
    "\"80540000\",\"90700000\",\"31121300\",\"09330000\",\"45261215\",\"45251141\"]\n",
    "\n",
    "green_cpvs = [i.rstrip(\"0\") for i in green_cpvs]"
   ]
  },
  {
   "cell_type": "code",
   "execution_count": 58,
   "id": "85d1f7f7-734f-46e3-9dd3-f9add4bdabd3",
   "metadata": {
    "tags": []
   },
   "outputs": [],
   "source": [
    "data_proc_wcleantext_r1[\"green_pp_dummy\"] = (np.where(\n",
    "    data_proc_wcleantext_r1[\"main_cpv_full\"]\n",
    "    .str\n",
    "    .startswith(\n",
    "        tuple(green_cpvs), \n",
    "        na=False), \n",
    "    1, \n",
    "    data_proc_wcleantext_r1[\"green_pp_dummy\"]))"
   ]
  },
  {
   "cell_type": "code",
   "execution_count": 59,
   "id": "daf7b8aa-5d34-4512-bf2b-75584d189225",
   "metadata": {
    "tags": []
   },
   "outputs": [],
   "source": [
    "#Year filt\n",
    "data_proc_wcleantext_r1 = data_proc_wcleantext_r1[(data_proc_wcleantext_r1[\"tender_year\"] >= 2011) & \n",
    "                                           (data_proc_wcleantext_r1[\"tender_year\"] <= 2019)]"
   ]
  },
  {
   "cell_type": "code",
   "execution_count": 60,
   "id": "6aa17e4a-87ca-48e5-ad21-9ca26358f4fa",
   "metadata": {
    "tags": []
   },
   "outputs": [
    {
     "data": {
      "text/plain": [
       "6715"
      ]
     },
     "execution_count": 60,
     "metadata": {},
     "output_type": "execute_result"
    }
   ],
   "source": [
    "len(data_proc_wcleantext_r1[data_proc_wcleantext_r1[\"green_pp_dummy\"] == 1])"
   ]
  },
  {
   "cell_type": "markdown",
   "id": "d9899d3b-23c8-4497-9c06-36577960aa6e",
   "metadata": {
    "tags": []
   },
   "source": [
    "### Green keyword and CPV occurences"
   ]
  },
  {
   "cell_type": "code",
   "execution_count": 61,
   "id": "9cde60bc-c806-427d-b51a-3707a86c52de",
   "metadata": {
    "tags": []
   },
   "outputs": [],
   "source": [
    "cols_clean = [\"tender_title_clean\",\"description_clean\",\"personalRequirements_clean\",\"economicRequirements_clean\",\n",
    "            \"technicalRequirements_clean\",\"awardCriteria_clean\",\"lot_title_clean\",\"lot_description_clean\"]"
   ]
  },
  {
   "cell_type": "code",
   "execution_count": 62,
   "id": "8ed17249-ce49-40b5-adb0-2ec035dd652d",
   "metadata": {
    "tags": []
   },
   "outputs": [],
   "source": [
    "keyword_freq = pd.DataFrame({\"keywords\": list(keywords_wcleantext[\"green_word_bg_clean\"])})\n",
    "keyword_freq = keyword_freq.set_index(\"keywords\")\n",
    "for col in cols_clean:\n",
    "    keyword_freq[col] = np.nan\n",
    "    for keyword in list(keywords_wcleantext[\"green_word_bg_clean\"]):\n",
    "        count = data_proc_wcleantext[col].str.count(keyword).sum()\n",
    "        keyword_freq.loc[keyword, col] = count"
   ]
  },
  {
   "cell_type": "code",
   "execution_count": 63,
   "id": "8028dc05-142f-45ea-91a0-d8a03a96e673",
   "metadata": {
    "tags": []
   },
   "outputs": [],
   "source": [
    "keyword_freq[\"total_Freq\"] = keyword_freq[keyword_freq.columns[-len(cols_clean):]].sum(axis = 1)\n",
    "keyword_freq.reset_index(inplace = True)"
   ]
  },
  {
   "cell_type": "code",
   "execution_count": 64,
   "id": "989747c5-a7f4-4013-9054-671312fb0755",
   "metadata": {
    "tags": []
   },
   "outputs": [],
   "source": [
    "keyword_freq = (keywords[[\"green_word_eng\", \"green_word_bg_clean\"]]\n",
    "            .merge(keyword_freq, left_on = \"green_word_bg_clean\", right_on = \"keywords\")\n",
    "            .drop(columns = \"green_word_bg_clean\"))"
   ]
  },
  {
   "cell_type": "code",
   "execution_count": 65,
   "id": "1b7ee286-aa41-4669-8f26-664ab2ce1344",
   "metadata": {
    "tags": []
   },
   "outputs": [],
   "source": [
    "keyword_freq.sort_values(by = \"total_Freq\", inplace = True, ascending = False)"
   ]
  },
  {
   "cell_type": "code",
   "execution_count": 66,
   "id": "b3e20e9f-a283-401b-8406-e25c62df5fbd",
   "metadata": {
    "tags": []
   },
   "outputs": [],
   "source": [
    "green_cols = [col for col in data_proc_wcleantext.columns if \"green_pp\" in col]\n",
    "green_cols_clean = [\"Title\", \"Description\",\"Personal reqs.\", \n",
    "                     \"Economic reqs.\", \"Technical reqs.\", \"Award crits.\",\n",
    "                     \"Lot title\", \"Lot desc.\", \"All\"]\n",
    "dummy_data = pd.DataFrame({\"colname\": green_cols, \"colname_clean\": green_cols_clean})\n",
    "dummy_data.set_index(\"colname\", inplace = True)\n",
    "for col in green_cols:\n",
    "    freq = data_proc_wcleantext[col].sum()\n",
    "    dummy_data.loc[col,\"freq\"] = freq\n",
    "    \n",
    "\n",
    "dummy_data.sort_values(by = \"freq\", ascending = False, inplace = True)"
   ]
  },
  {
   "cell_type": "code",
   "execution_count": 67,
   "id": "635f5c7a-2979-408d-ac15-73b1e242c44b",
   "metadata": {
    "tags": []
   },
   "outputs": [],
   "source": [
    "green_cpv_dict = {\"42914\": \"Recycling equipment\",\n",
    "\"90514\": \"Refuse recycling services\",\n",
    "\"4521327\": \"Construction works for recycling station\",\n",
    "\"9071527\": \"Recycling plant site investigation\",\n",
    "\"713143\": \"Energy-efficiency consultancy services\",\n",
    "\"4526141\": \"Roof insulation work\",\n",
    "\"45321\": \"Thermal insulation work\",\n",
    "\"9073\": \"Pollution tracking and monitoring and rehabilitation\",\n",
    "\"90715\": \"Pollution investigation services\",\n",
    "\"606513\": \"Anti-pollution ship services\",\n",
    "\"4526264\": \"Environmental improvement works\",\n",
    "\"71313\": \"Environmental engineering consultancy services\",\n",
    "\"8054\": \"Environmental training services\",\n",
    "\"907\": \"Environmental services\",\n",
    "\"311213\": \"Wind-energy generators\",\n",
    "\"0933\": \"Solar energy\",\n",
    "\"45261215\": \"Solar panel roof-covering work\",\n",
    "\"45251141\": \"Geothermal power station construction work\"}"
   ]
  },
  {
   "cell_type": "code",
   "execution_count": 68,
   "id": "61639955-2ab1-4e02-b986-60c160942d11",
   "metadata": {
    "tags": []
   },
   "outputs": [],
   "source": [
    "cpv_freq = pd.DataFrame({\"cpvs\": green_cpvs})\n",
    "cpv_freq = cpv_freq.set_index(\"cpvs\")\n",
    "cpv_freq[\"cpv_label\"] = np.nan\n",
    "cpv_freq[\"freq\"] = np.nan\n",
    "for cpv, label in green_cpv_dict.items():\n",
    "    count = data_proc_wcleantext[\"main_cpv_full\"].str.contains(cpv, na=False ).sum()\n",
    "    cpv_freq.loc[cpv, \"cpv_label\"] = label\n",
    "    cpv_freq.loc[cpv, \"freq\"] = count"
   ]
  },
  {
   "cell_type": "code",
   "execution_count": 69,
   "id": "e0f4f792-f8fc-45ad-aae7-3e58ffc803cc",
   "metadata": {
    "tags": []
   },
   "outputs": [],
   "source": [
    "cpv_freq.reset_index(inplace = True)"
   ]
  },
  {
   "cell_type": "code",
   "execution_count": 70,
   "id": "32af5aae-c29a-4b00-b03b-d0299012112f",
   "metadata": {
    "tags": []
   },
   "outputs": [],
   "source": [
    "cpv_freq.sort_values(by = \"freq\", ascending = False, inplace = True)"
   ]
  },
  {
   "cell_type": "markdown",
   "id": "06da76ce-aef9-49e4-9859-4034421c83d1",
   "metadata": {},
   "source": [
    "### Figure 1: Share of GPP identified in text description of procurement and CPVs"
   ]
  },
  {
   "cell_type": "code",
   "execution_count": 71,
   "id": "2c100d10-7ba2-49ff-adcd-224c69576ab1",
   "metadata": {
    "tags": []
   },
   "outputs": [
    {
     "data": {
      "image/png": "[encoded data removed]",
      "text/plain": [
       "<Figure size 1000x800 with 1 Axes>"
      ]
     },
     "metadata": {},
     "output_type": "display_data"
    }
   ],
   "source": [
    "green_cols = [col for col in data_proc_wcleantext.columns if \"green_pp\" in col]\n",
    "green_cols_clean = [\"Title\", \"Description\", \"Personal reqs.\", \"Economic reqs.\", \"Technical reqs.\", \"Award crits.\", \"Lot title\", \"Lot desc.\", \"All\"]\n",
    "dummy_data = pd.DataFrame({\"colname\": green_cols, \"colname_clean\": green_cols_clean})\n",
    "dummy_data.set_index(\"colname\", inplace=True)\n",
    "\n",
    "for col in green_cols:\n",
    "    freq = data_proc_wcleantext[col].sum()\n",
    "    dummy_data.loc[col, \"freq\"] = freq\n",
    "\n",
    "dummy_data.sort_values(by=\"freq\", ascending=False, inplace=True)\n",
    "green_share = data_proc_wcleantext[\"green_pp_dummy\"].sum() / len(data_proc_wcleantext) * 100\n",
    "non_green_share = 100 - green_share\n",
    "\n",
    "# Calculate share in dummy_data\n",
    "dummy_data[\"share\"] = dummy_data[\"freq\"] / len(data_proc_wcleantext) * 100\n",
    "\n",
    "# Create a new dataframe for CPV\n",
    "cpv_data = pd.DataFrame({\"colname_clean\": [\"Total CPV\"], \"share\": [0]})\n",
    "cpv_data.loc[0, \"share\"] = data_proc_wcleantext[\"main_cpv_full\"].str.contains('|'.join(green_cpv_dict.keys()), na=False).sum() / len(data_proc_wcleantext) * 100\n",
    "\n",
    "# Concatenate dummy_data and cpv_data\n",
    "combined_data = pd.concat([dummy_data, cpv_data])\n",
    "\n",
    "combined_data.sort_values(by=\"share\", ascending=False, inplace=True)  # Sort by share in descending order\n",
    "\n",
    "fig, ax1 = plt.subplots(figsize=[10, 8])\n",
    "\n",
    "sns.barplot(x=combined_data[\"colname_clean\"],\n",
    "            y=combined_data[\"share\"],\n",
    "            color=\"lightblue\",\n",
    "            ax=ax1)\n",
    "\n",
    "ax1.set_ylabel(\"Share (%)\")\n",
    "ax1.set_xlabel(\"Text Object Name\")\n",
    "ax1.set_title(\"Share of Green Procurement Identified from Text Objects\")\n",
    "ax1.tick_params('x', labelrotation=90)\n",
    "\n",
    "# Iterate over each bar in the barplot\n",
    "for i, (index, row) in enumerate(combined_data.iterrows()):\n",
    "    green_share = row[\"share\"]\n",
    "    non_green_share = 100 - green_share\n",
    "\n",
    "    # Plot green share\n",
    "    ax1.bar(i, green_share, color=\"mediumaquamarine\")\n",
    "\n",
    "    # Plot non-green share\n",
    "    ax1.bar(i, non_green_share, bottom=green_share, color=\"lightblue\")\n",
    "\n",
    "    # Annotate green share\n",
    "    ax1.annotate(f\"{green_share:.1f}%\", xy=(i, green_share / 2), ha=\"center\", va=\"center\", color=\"white\", fontsize=12)\n",
    "\n",
    "    # Annotate non-green share\n",
    "    ax1.annotate(f\"{non_green_share:.1f}%\", xy=(i, green_share + non_green_share / 2), ha=\"center\", va=\"center\", color=\"black\", fontsize=12)\n",
    "\n",
    "# Update x-axis ticks and labels\n",
    "x_ticks = list(combined_data[\"colname_clean\"])\n",
    "ax1.set_xticks(range(len(x_ticks)))\n",
    "ax1.set_xticklabels(x_ticks, rotation=90)\n",
    "\n",
    "# Set y-axis limits to range from 0 to 100\n",
    "ax1.set_ylim(0, 100)\n",
    "\n",
    "plt.tight_layout()\n",
    "plt.savefig('green_procurement_shares.png')"
   ]
  },
  {
   "cell_type": "markdown",
   "id": "33de1371-eccd-4bce-9e2f-f5767b49b4b5",
   "metadata": {},
   "source": [
    "### Figure 3: Contract value share of top 10 CPV sectors with Green Public Procurement contracts"
   ]
  },
  {
   "cell_type": "code",
   "execution_count": 72,
   "id": "179f5440-9a7f-4abb-87c0-4fd7b03906ea",
   "metadata": {
    "tags": []
   },
   "outputs": [],
   "source": [
    "data_proc_wcleantext = pd.read_csv(\"bg_cri_processed_green_pp20220426.csv\",low_memory=False,\n",
    "                                  dtype = {\"bidder_id\": object, \"buyer_id\": object})"
   ]
  },
  {
   "cell_type": "code",
   "execution_count": 73,
   "id": "4b23fd42-cdcf-4d5b-94b2-7ef482e45c70",
   "metadata": {
    "tags": []
   },
   "outputs": [],
   "source": [
    "f3_d2 = (data_proc_wcleantext\n",
    "         .groupby([\"main_cpv_div\", \"green_pp_dummy\"])\n",
    "         .agg({\"lot_id\": \"count\", \"bid_price\": \"sum\", \"singleb\": \"mean\"})\n",
    "         .reset_index()\n",
    "         .pivot(index=\"main_cpv_div\", columns=\"green_pp_dummy\", values=[\"lot_id\", \"bid_price\"])\n",
    "         .reset_index())\n",
    "\n",
    "# Adjust the column names based on the columns present in f3_d2\n",
    "f3_d2.columns = [\"main_cpv_div\", \"count_other\", \"count_green\", \"contract_value_other\", \"contract_value_green\"]\n",
    "f3_d2[\"singleb\"] = data_proc_wcleantext.groupby([\"main_cpv_div\", \"green_pp_dummy\"])[\"singleb\"].mean().reset_index(drop=True)\n",
    "f3_d2[\"volume_share_green\"] = f3_d2[\"count_green\"] / (f3_d2[\"count_green\"] + f3_d2[\"count_other\"])\n",
    "f3_d2[\"volume_share_nogreen\"] = 1 - f3_d2[\"volume_share_green\"]\n",
    "f3_d2[\"value_share_green\"] = f3_d2[\"contract_value_green\"] / (f3_d2[\"contract_value_green\"] + f3_d2[\"contract_value_other\"])\n",
    "f3_d2[\"value_share_nogreen\"] = 1 - f3_d2[\"value_share_green\"]\n",
    "f3_d2.sort_values(by=\"value_share_green\", ascending=False, inplace=True)\n",
    "f3_d2.reset_index(inplace=True, drop=True)\n",
    "f3_d2 = f3_d2.iloc[:10]"
   ]
  },
  {
   "cell_type": "code",
   "execution_count": 74,
   "id": "933fff7a-4833-47a6-882a-e8aaee00f09a",
   "metadata": {
    "tags": []
   },
   "outputs": [
    {
     "name": "stdout",
     "output_type": "stream",
     "text": [
      "   main_cpv_div  count_other  count_green  contract_value_other  \\\n",
      "0          90.0       2638.0        572.0          1.117301e+09   \n",
      "1          45.0      13948.0       4461.0          1.675631e+10   \n",
      "2          71.0       7011.0       3649.0          1.679771e+09   \n",
      "3          41.0        430.0          3.0          4.596928e+07   \n",
      "4          70.0        174.0         73.0          1.776845e+07   \n",
      "5          50.0       7748.0        275.0          1.855774e+09   \n",
      "6          77.0       1717.0        117.0          1.779531e+08   \n",
      "7          48.0       1183.0         25.0          6.037233e+08   \n",
      "8          75.0        104.0          3.0          4.027438e+07   \n",
      "9          76.0         36.0          1.0          1.890653e+07   \n",
      "\n",
      "   contract_value_green   singleb  volume_share_green  volume_share_nogreen  \\\n",
      "0          6.779266e+08  0.355932            0.178193              0.821807   \n",
      "1          8.621056e+09  0.437500            0.242327              0.757673   \n",
      "2          6.092845e+08  0.500000            0.342308              0.657692   \n",
      "3          1.585777e+07  0.093567            0.006928              0.993072   \n",
      "4          3.779061e+06  0.467447            0.295547              0.704453   \n",
      "5          2.467016e+08  0.416000            0.034276              0.965724   \n",
      "6          2.004097e+07  0.372881            0.063795              0.936205   \n",
      "7          5.500074e+07  0.186663            0.020695              0.979305   \n",
      "8          3.093100e+06  0.333333            0.028037              0.971963   \n",
      "9          1.408000e+06  0.396608            0.027027              0.972973   \n",
      "\n",
      "   value_share_green  value_share_nogreen  \n",
      "0           0.377627             0.622373  \n",
      "1           0.339714             0.660286  \n",
      "2           0.266173             0.733827  \n",
      "3           0.256486             0.743514  \n",
      "4           0.175383             0.824617  \n",
      "5           0.117339             0.882661  \n",
      "6           0.101220             0.898780  \n",
      "7           0.083496             0.916504  \n",
      "8           0.071323             0.928677  \n",
      "9           0.069310             0.930690  \n"
     ]
    }
   ],
   "source": [
    "print(f3_d2)"
   ]
  },
  {
   "cell_type": "code",
   "execution_count": 75,
   "id": "363e8b73-f920-41be-97bd-1f1ab31f008e",
   "metadata": {
    "tags": []
   },
   "outputs": [],
   "source": [
    "f3_d2[\"main_cpv_div\"] = f3_d2[\"main_cpv_div\"].replace(\n",
    "{\n",
    "    90: \"Sewage-, refuse-, cleaning-, ... services\",\n",
    "    45: \"Construction work\",\n",
    "    71: \"Architectural, construction, ... services\",\n",
    "    41: \"Collected and purified water\",\n",
    "    70: \"Real estate services\",\n",
    "    50: \"Repair and maintenance services\",\n",
    "    77: \"Agricultural, forestry ... services\",\n",
    "    48: \"Software package and information systems\",\n",
    "    75: \"Administration, defence ... services\",\n",
    "    76: \"Services related to the oil and gas industry\"\n",
    "}\n",
    ")"
   ]
  },
  {
   "cell_type": "code",
   "execution_count": 76,
   "id": "07a575ae-5e7f-427d-a005-d3c757a6d4aa",
   "metadata": {
    "tags": []
   },
   "outputs": [
    {
     "data": {
      "image/png": "[encoded data removed]",
      "text/plain": [
       "<Figure size 800x700 with 1 Axes>"
      ]
     },
     "metadata": {},
     "output_type": "display_data"
    }
   ],
   "source": [
    "fig, ax = plt.subplots(figsize=[8, 7])\n",
    "\n",
    "# Sort the dataframe by value_share_green in descending order\n",
    "f3_d2_sorted = f3_d2.sort_values(\"value_share_green\", ascending=False)\n",
    "\n",
    "# Select the top 10 main_cpv_div based on overall contract value share\n",
    "top_10_cpv_div = f3_d2_sorted.head(10)[\"main_cpv_div\"]\n",
    "\n",
    "# Calculate the positions for the bars\n",
    "positions = np.arange(len(top_10_cpv_div))\n",
    "\n",
    "# Your existing bar plots\n",
    "ax.bar(positions, f3_d2_sorted.loc[f3_d2_sorted[\"main_cpv_div\"].isin(top_10_cpv_div), \"value_share_green\"]*100, label=\"Green procurement\", color=\"mediumaquamarine\")\n",
    "ax.bar(positions, f3_d2_sorted.loc[f3_d2_sorted[\"main_cpv_div\"].isin(top_10_cpv_div), \"value_share_nogreen\"]*100,\n",
    "       bottom=f3_d2_sorted.loc[f3_d2_sorted[\"main_cpv_div\"].isin(top_10_cpv_div), \"value_share_green\"]*100, label=\"Non-green procurement\", color=\"lightblue\")\n",
    "\n",
    "ax.tick_params('x', labelrotation=90)\n",
    "ax.set_xticks(positions)\n",
    "ax.set_xticklabels(top_10_cpv_div)\n",
    "\n",
    "ax.set_xlabel(\"CPV code labels\")\n",
    "ax.set_ylabel(\"Contract value share (%)\")\n",
    "\n",
    "ax.set_axisbelow(True)\n",
    "ax.yaxis.grid(color='gray', alpha=0.5)\n",
    "ax.xaxis.grid(color='gray', alpha=0.5)\n",
    "\n",
    "\n",
    "# Display legends\n",
    "ax.legend(loc=\"upper left\")\n",
    "\n",
    "plt.tight_layout()\n",
    "plt.savefig('top10_cpv_dist_share_1.png', bbox_inches='tight')\n",
    "plt.show()"
   ]
  },
  {
   "cell_type": "code",
   "execution_count": null,
   "id": "3f76ec19-2015-40c9-8c9c-a90087b078ed",
   "metadata": {},
   "outputs": [],
   "source": []
  }
 ],
 "metadata": {
  "kernelspec": {
   "display_name": "Python 3 (ipykernel)",
   "language": "python",
   "name": "python3"
  },
  "language_info": {
   "codemirror_mode": {
    "name": "ipython",
    "version": 3
   },
   "file_extension": ".py",
   "mimetype": "text/x-python",
   "name": "python",
   "nbconvert_exporter": "python",
   "pygments_lexer": "ipython3",
   "version": "3.11.5"
  }
 },
 "nbformat": 4,
 "nbformat_minor": 5
}
